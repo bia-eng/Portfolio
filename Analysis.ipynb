{
 "cells": [
  {
   "cell_type": "code",
   "execution_count": null,
   "metadata": {},
   "outputs": [],
   "source": [
    "####################################################################################################################\n",
    "# Code is based on the following documentation:\n",
    "#===================================================================================================================\n",
    "# https://docs.python.org/3.11/library/os.html\n",
    "# https://matplotlib.org/\n",
    "# https://www.tensorflow.org/\n",
    "# https://keras.io/\n",
    "# https://pandas.pydata.org/\n",
    "# https://pillow.readthedocs.io/en/stable/\n",
    "# https://seaborn.pydata.org/index.html\n",
    "# https://pyyaml.org/wiki/PyYAMLDocumentation\n",
    "# https://tqdm.github.io/\n",
    "# https://plotly.com/\n",
    "# https://arrow.apache.org/docs/python/\n",
    "####################################################################################################################"
   ]
  },
  {
   "cell_type": "code",
   "execution_count": 1,
   "metadata": {},
   "outputs": [],
   "source": [
    "import pyarrow.parquet as pq\n",
    "import pandas as pd\n",
    "import plotly.graph_objects as go\n",
    "import warnings\n",
    "\n",
    "warnings.filterwarnings('ignore')"
   ]
  },
  {
   "cell_type": "code",
   "execution_count": 2,
   "metadata": {},
   "outputs": [],
   "source": [
    "df_exp1 = pq.read_table('./metrics/model_1_history.parquet').to_pandas()\n",
    "df_exp2 = pq.read_table('./metrics/model_2_history.parquet').to_pandas()"
   ]
  },
  {
   "cell_type": "code",
   "execution_count": 3,
   "metadata": {},
   "outputs": [
    {
     "name": "stdout",
     "output_type": "stream",
     "text": [
      "Index(['DenseNet121', 'DenseNet169', 'DenseNet201', 'EfficientNetB0',\n",
      "       'EfficientNetV2B0', 'EfficientNetV2L', 'ResNet101', 'ResNet152',\n",
      "       'ResNet50', 'VGG16', 'VGG19'],\n",
      "      dtype='object')\n",
      "Index(['DenseNet121', 'DenseNet169', 'DenseNet201', 'EfficientNetB0',\n",
      "       'EfficientNetV2B0', 'EfficientNetV2L', 'ResNet101', 'ResNet152',\n",
      "       'ResNet50', 'VGG16', 'VGG19'],\n",
      "      dtype='object')\n"
     ]
    }
   ],
   "source": [
    "print(df_exp1.columns.levels[0])\n",
    "print(df_exp2.columns.levels[0])"
   ]
  },
  {
   "cell_type": "code",
   "execution_count": 4,
   "metadata": {},
   "outputs": [
    {
     "name": "stdout",
     "output_type": "stream",
     "text": [
      "Index(['accuracy', 'loss', 'val_accuracy', 'val_loss'], dtype='object')\n",
      "Index(['accuracy', 'loss', 'val_accuracy', 'val_loss'], dtype='object')\n"
     ]
    }
   ],
   "source": [
    "print(df_exp1.columns.levels[1])\n",
    "print(df_exp2.columns.levels[1])"
   ]
  },
  {
   "cell_type": "code",
   "execution_count": 5,
   "metadata": {},
   "outputs": [],
   "source": [
    "def accuracy_data(df):\n",
    "    train_accuracy = {}\n",
    "    for parent_column in df.columns.levels[0]:\n",
    "        accuracy_column = df.loc[:, (parent_column, df.columns.levels[1][0])]\n",
    "        train_accuracy[parent_column + f'_{df.columns.levels[1][0]}'] = accuracy_column\n",
    "\n",
    "    accuracy_df = pd.DataFrame(train_accuracy)\n",
    "\n",
    "    val_accuracy = {}\n",
    "    for parent_column in df.columns.levels[0]:\n",
    "        accuracy_column = df.loc[:, (parent_column, df.columns.levels[1][2])]\n",
    "        val_accuracy[parent_column + f'_{df.columns.levels[1][2]}'] = accuracy_column\n",
    "\n",
    "    val_accuracy_df = pd.DataFrame(val_accuracy)\n",
    "\n",
    "    return accuracy_df, val_accuracy_df"
   ]
  },
  {
   "cell_type": "code",
   "execution_count": 6,
   "metadata": {},
   "outputs": [],
   "source": [
    "def format_df(df):\n",
    "    return df.style \\\n",
    "    .highlight_max(color='red') \\\n",
    "    .highlight_max(color='green', axis=None) \\\n",
    "    .highlight_max(color='navy', axis=1, subset=df.index[-1]) \\\n",
    "    .format(\"{:.3%}\", na_rep=\"-\")"
   ]
  },
  {
   "cell_type": "code",
   "execution_count": 7,
   "metadata": {},
   "outputs": [],
   "source": [
    "def plot_accuracy(df, title, xlabel='Epoch', ylabel='Accuracy'):\n",
    "    fig = go.Figure()\n",
    "    for column in df.columns:\n",
    "        fig.add_trace(go.Scatter(x=df.index, y=df[column], mode='lines+markers', name=column))\n",
    "    fig.update_layout(title=title, xaxis_title=xlabel, yaxis_title=ylabel, yaxis=dict(tickformat='.3%'), width=1000, height=500)\n",
    "    fig.show()"
   ]
  },
  {
   "cell_type": "markdown",
   "metadata": {},
   "source": [
    "# Experiment 1"
   ]
  },
  {
   "cell_type": "markdown",
   "metadata": {},
   "source": [
    "Get training accuracy of models in each epoch"
   ]
  },
  {
   "cell_type": "markdown",
   "metadata": {},
   "source": [
    "## Training Accuracy"
   ]
  },
  {
   "cell_type": "code",
   "execution_count": 8,
   "metadata": {},
   "outputs": [],
   "source": [
    "accuracy_df, _ = accuracy_data(df_exp1)"
   ]
  },
  {
   "cell_type": "markdown",
   "metadata": {},
   "source": [
    "From the below table, all models of `DenseNet` performs poorly as compared to other models. `ResNet` models give best result in this experiments but 100% training accuracy shows overfitting of data (Note: In first experiment, we didn't do any data augmentation or regularization). Apart from `DenseNet`, training accuracy values of all models is greater than 99%. `ResNet101` and `ResNet152` perform the best."
   ]
  },
  {
   "cell_type": "code",
   "execution_count": 9,
   "metadata": {},
   "outputs": [
    {
     "name": "stdout",
     "output_type": "stream",
     "text": [
      "Training Accuracy\n"
     ]
    },
    {
     "data": {
      "text/html": [
       "<style type=\"text/css\">\n",
       "#T_ea82e_row7_col5, #T_ea82e_row9_col0, #T_ea82e_row9_col1, #T_ea82e_row9_col2, #T_ea82e_row9_col3, #T_ea82e_row9_col4, #T_ea82e_row9_col5, #T_ea82e_row9_col9, #T_ea82e_row9_col10 {\n",
       "  background-color: red;\n",
       "}\n",
       "#T_ea82e_row7_col6, #T_ea82e_row7_col8, #T_ea82e_row8_col6, #T_ea82e_row8_col7 {\n",
       "  background-color: red;\n",
       "  background-color: green;\n",
       "}\n",
       "#T_ea82e_row9_col6, #T_ea82e_row9_col7, #T_ea82e_row9_col8 {\n",
       "  background-color: red;\n",
       "  background-color: green;\n",
       "  background-color: navy;\n",
       "}\n",
       "</style>\n",
       "<table id=\"T_ea82e\">\n",
       "  <thead>\n",
       "    <tr>\n",
       "      <th class=\"blank level0\" >&nbsp;</th>\n",
       "      <th id=\"T_ea82e_level0_col0\" class=\"col_heading level0 col0\" >DenseNet121_accuracy</th>\n",
       "      <th id=\"T_ea82e_level0_col1\" class=\"col_heading level0 col1\" >DenseNet169_accuracy</th>\n",
       "      <th id=\"T_ea82e_level0_col2\" class=\"col_heading level0 col2\" >DenseNet201_accuracy</th>\n",
       "      <th id=\"T_ea82e_level0_col3\" class=\"col_heading level0 col3\" >EfficientNetB0_accuracy</th>\n",
       "      <th id=\"T_ea82e_level0_col4\" class=\"col_heading level0 col4\" >EfficientNetV2B0_accuracy</th>\n",
       "      <th id=\"T_ea82e_level0_col5\" class=\"col_heading level0 col5\" >EfficientNetV2L_accuracy</th>\n",
       "      <th id=\"T_ea82e_level0_col6\" class=\"col_heading level0 col6\" >ResNet101_accuracy</th>\n",
       "      <th id=\"T_ea82e_level0_col7\" class=\"col_heading level0 col7\" >ResNet152_accuracy</th>\n",
       "      <th id=\"T_ea82e_level0_col8\" class=\"col_heading level0 col8\" >ResNet50_accuracy</th>\n",
       "      <th id=\"T_ea82e_level0_col9\" class=\"col_heading level0 col9\" >VGG16_accuracy</th>\n",
       "      <th id=\"T_ea82e_level0_col10\" class=\"col_heading level0 col10\" >VGG19_accuracy</th>\n",
       "    </tr>\n",
       "  </thead>\n",
       "  <tbody>\n",
       "    <tr>\n",
       "      <th id=\"T_ea82e_level0_row0\" class=\"row_heading level0 row0\" >0</th>\n",
       "      <td id=\"T_ea82e_row0_col0\" class=\"data row0 col0\" >45.274%</td>\n",
       "      <td id=\"T_ea82e_row0_col1\" class=\"data row0 col1\" >44.619%</td>\n",
       "      <td id=\"T_ea82e_row0_col2\" class=\"data row0 col2\" >50.681%</td>\n",
       "      <td id=\"T_ea82e_row0_col3\" class=\"data row0 col3\" >95.786%</td>\n",
       "      <td id=\"T_ea82e_row0_col4\" class=\"data row0 col4\" >97.487%</td>\n",
       "      <td id=\"T_ea82e_row0_col5\" class=\"data row0 col5\" >98.226%</td>\n",
       "      <td id=\"T_ea82e_row0_col6\" class=\"data row0 col6\" >92.438%</td>\n",
       "      <td id=\"T_ea82e_row0_col7\" class=\"data row0 col7\" >92.164%</td>\n",
       "      <td id=\"T_ea82e_row0_col8\" class=\"data row0 col8\" >92.227%</td>\n",
       "      <td id=\"T_ea82e_row0_col9\" class=\"data row0 col9\" >78.424%</td>\n",
       "      <td id=\"T_ea82e_row0_col10\" class=\"data row0 col10\" >76.745%</td>\n",
       "    </tr>\n",
       "    <tr>\n",
       "      <th id=\"T_ea82e_level0_row1\" class=\"row_heading level0 row1\" >1</th>\n",
       "      <td id=\"T_ea82e_row1_col0\" class=\"data row1 col0\" >63.608%</td>\n",
       "      <td id=\"T_ea82e_row1_col1\" class=\"data row1 col1\" >61.400%</td>\n",
       "      <td id=\"T_ea82e_row1_col2\" class=\"data row1 col2\" >66.438%</td>\n",
       "      <td id=\"T_ea82e_row1_col3\" class=\"data row1 col3\" >98.923%</td>\n",
       "      <td id=\"T_ea82e_row1_col4\" class=\"data row1 col4\" >99.651%</td>\n",
       "      <td id=\"T_ea82e_row1_col5\" class=\"data row1 col5\" >99.683%</td>\n",
       "      <td id=\"T_ea82e_row1_col6\" class=\"data row1 col6\" >97.846%</td>\n",
       "      <td id=\"T_ea82e_row1_col7\" class=\"data row1 col7\" >97.582%</td>\n",
       "      <td id=\"T_ea82e_row1_col8\" class=\"data row1 col8\" >97.381%</td>\n",
       "      <td id=\"T_ea82e_row1_col9\" class=\"data row1 col9\" >91.900%</td>\n",
       "      <td id=\"T_ea82e_row1_col10\" class=\"data row1 col10\" >92.037%</td>\n",
       "    </tr>\n",
       "    <tr>\n",
       "      <th id=\"T_ea82e_level0_row2\" class=\"row_heading level0 row2\" >2</th>\n",
       "      <td id=\"T_ea82e_row2_col0\" class=\"data row2 col0\" >68.634%</td>\n",
       "      <td id=\"T_ea82e_row2_col1\" class=\"data row2 col1\" >65.984%</td>\n",
       "      <td id=\"T_ea82e_row2_col2\" class=\"data row2 col2\" >71.201%</td>\n",
       "      <td id=\"T_ea82e_row2_col3\" class=\"data row2 col3\" >99.324%</td>\n",
       "      <td id=\"T_ea82e_row2_col4\" class=\"data row2 col4\" >99.820%</td>\n",
       "      <td id=\"T_ea82e_row2_col5\" class=\"data row2 col5\" >99.736%</td>\n",
       "      <td id=\"T_ea82e_row2_col6\" class=\"data row2 col6\" >98.828%</td>\n",
       "      <td id=\"T_ea82e_row2_col7\" class=\"data row2 col7\" >98.828%</td>\n",
       "      <td id=\"T_ea82e_row2_col8\" class=\"data row2 col8\" >98.458%</td>\n",
       "      <td id=\"T_ea82e_row2_col9\" class=\"data row2 col9\" >94.118%</td>\n",
       "      <td id=\"T_ea82e_row2_col10\" class=\"data row2 col10\" >94.561%</td>\n",
       "    </tr>\n",
       "    <tr>\n",
       "      <th id=\"T_ea82e_level0_row3\" class=\"row_heading level0 row3\" >3</th>\n",
       "      <td id=\"T_ea82e_row3_col0\" class=\"data row3 col0\" >71.518%</td>\n",
       "      <td id=\"T_ea82e_row3_col1\" class=\"data row3 col1\" >68.117%</td>\n",
       "      <td id=\"T_ea82e_row3_col2\" class=\"data row3 col2\" >72.595%</td>\n",
       "      <td id=\"T_ea82e_row3_col3\" class=\"data row3 col3\" >99.620%</td>\n",
       "      <td id=\"T_ea82e_row3_col4\" class=\"data row3 col4\" >99.852%</td>\n",
       "      <td id=\"T_ea82e_row3_col5\" class=\"data row3 col5\" >99.810%</td>\n",
       "      <td id=\"T_ea82e_row3_col6\" class=\"data row3 col6\" >99.588%</td>\n",
       "      <td id=\"T_ea82e_row3_col7\" class=\"data row3 col7\" >99.556%</td>\n",
       "      <td id=\"T_ea82e_row3_col8\" class=\"data row3 col8\" >99.123%</td>\n",
       "      <td id=\"T_ea82e_row3_col9\" class=\"data row3 col9\" >95.617%</td>\n",
       "      <td id=\"T_ea82e_row3_col10\" class=\"data row3 col10\" >96.198%</td>\n",
       "    </tr>\n",
       "    <tr>\n",
       "      <th id=\"T_ea82e_level0_row4\" class=\"row_heading level0 row4\" >4</th>\n",
       "      <td id=\"T_ea82e_row4_col0\" class=\"data row4 col0\" >73.059%</td>\n",
       "      <td id=\"T_ea82e_row4_col1\" class=\"data row4 col1\" >71.169%</td>\n",
       "      <td id=\"T_ea82e_row4_col2\" class=\"data row4 col2\" >74.686%</td>\n",
       "      <td id=\"T_ea82e_row4_col3\" class=\"data row4 col3\" >99.704%</td>\n",
       "      <td id=\"T_ea82e_row4_col4\" class=\"data row4 col4\" >99.905%</td>\n",
       "      <td id=\"T_ea82e_row4_col5\" class=\"data row4 col5\" >99.863%</td>\n",
       "      <td id=\"T_ea82e_row4_col6\" class=\"data row4 col6\" >99.831%</td>\n",
       "      <td id=\"T_ea82e_row4_col7\" class=\"data row4 col7\" >99.863%</td>\n",
       "      <td id=\"T_ea82e_row4_col8\" class=\"data row4 col8\" >99.588%</td>\n",
       "      <td id=\"T_ea82e_row4_col9\" class=\"data row4 col9\" >96.663%</td>\n",
       "      <td id=\"T_ea82e_row4_col10\" class=\"data row4 col10\" >96.874%</td>\n",
       "    </tr>\n",
       "    <tr>\n",
       "      <th id=\"T_ea82e_level0_row5\" class=\"row_heading level0 row5\" >5</th>\n",
       "      <td id=\"T_ea82e_row5_col0\" class=\"data row5 col0\" >74.316%</td>\n",
       "      <td id=\"T_ea82e_row5_col1\" class=\"data row5 col1\" >71.929%</td>\n",
       "      <td id=\"T_ea82e_row5_col2\" class=\"data row5 col2\" >75.890%</td>\n",
       "      <td id=\"T_ea82e_row5_col3\" class=\"data row5 col3\" >99.842%</td>\n",
       "      <td id=\"T_ea82e_row5_col4\" class=\"data row5 col4\" >99.958%</td>\n",
       "      <td id=\"T_ea82e_row5_col5\" class=\"data row5 col5\" >99.958%</td>\n",
       "      <td id=\"T_ea82e_row5_col6\" class=\"data row5 col6\" >99.937%</td>\n",
       "      <td id=\"T_ea82e_row5_col7\" class=\"data row5 col7\" >99.926%</td>\n",
       "      <td id=\"T_ea82e_row5_col8\" class=\"data row5 col8\" >99.768%</td>\n",
       "      <td id=\"T_ea82e_row5_col9\" class=\"data row5 col9\" >97.476%</td>\n",
       "      <td id=\"T_ea82e_row5_col10\" class=\"data row5 col10\" >97.803%</td>\n",
       "    </tr>\n",
       "    <tr>\n",
       "      <th id=\"T_ea82e_level0_row6\" class=\"row_heading level0 row6\" >6</th>\n",
       "      <td id=\"T_ea82e_row6_col0\" class=\"data row6 col0\" >75.890%</td>\n",
       "      <td id=\"T_ea82e_row6_col1\" class=\"data row6 col1\" >72.669%</td>\n",
       "      <td id=\"T_ea82e_row6_col2\" class=\"data row6 col2\" >76.629%</td>\n",
       "      <td id=\"T_ea82e_row6_col3\" class=\"data row6 col3\" >99.916%</td>\n",
       "      <td id=\"T_ea82e_row6_col4\" class=\"data row6 col4\" >99.979%</td>\n",
       "      <td id=\"T_ea82e_row6_col5\" class=\"data row6 col5\" >99.937%</td>\n",
       "      <td id=\"T_ea82e_row6_col6\" class=\"data row6 col6\" >99.989%</td>\n",
       "      <td id=\"T_ea82e_row6_col7\" class=\"data row6 col7\" >99.989%</td>\n",
       "      <td id=\"T_ea82e_row6_col8\" class=\"data row6 col8\" >99.958%</td>\n",
       "      <td id=\"T_ea82e_row6_col9\" class=\"data row6 col9\" >98.184%</td>\n",
       "      <td id=\"T_ea82e_row6_col10\" class=\"data row6 col10\" >98.448%</td>\n",
       "    </tr>\n",
       "    <tr>\n",
       "      <th id=\"T_ea82e_level0_row7\" class=\"row_heading level0 row7\" >7</th>\n",
       "      <td id=\"T_ea82e_row7_col0\" class=\"data row7 col0\" >76.312%</td>\n",
       "      <td id=\"T_ea82e_row7_col1\" class=\"data row7 col1\" >74.285%</td>\n",
       "      <td id=\"T_ea82e_row7_col2\" class=\"data row7 col2\" >77.495%</td>\n",
       "      <td id=\"T_ea82e_row7_col3\" class=\"data row7 col3\" >99.916%</td>\n",
       "      <td id=\"T_ea82e_row7_col4\" class=\"data row7 col4\" >99.958%</td>\n",
       "      <td id=\"T_ea82e_row7_col5\" class=\"data row7 col5\" >99.979%</td>\n",
       "      <td id=\"T_ea82e_row7_col6\" class=\"data row7 col6\" >100.000%</td>\n",
       "      <td id=\"T_ea82e_row7_col7\" class=\"data row7 col7\" >99.979%</td>\n",
       "      <td id=\"T_ea82e_row7_col8\" class=\"data row7 col8\" >100.000%</td>\n",
       "      <td id=\"T_ea82e_row7_col9\" class=\"data row7 col9\" >98.511%</td>\n",
       "      <td id=\"T_ea82e_row7_col10\" class=\"data row7 col10\" >98.849%</td>\n",
       "    </tr>\n",
       "    <tr>\n",
       "      <th id=\"T_ea82e_level0_row8\" class=\"row_heading level0 row8\" >8</th>\n",
       "      <td id=\"T_ea82e_row8_col0\" class=\"data row8 col0\" >76.291%</td>\n",
       "      <td id=\"T_ea82e_row8_col1\" class=\"data row8 col1\" >74.739%</td>\n",
       "      <td id=\"T_ea82e_row8_col2\" class=\"data row8 col2\" >78.572%</td>\n",
       "      <td id=\"T_ea82e_row8_col3\" class=\"data row8 col3\" >99.926%</td>\n",
       "      <td id=\"T_ea82e_row8_col4\" class=\"data row8 col4\" >99.968%</td>\n",
       "      <td id=\"T_ea82e_row8_col5\" class=\"data row8 col5\" >99.937%</td>\n",
       "      <td id=\"T_ea82e_row8_col6\" class=\"data row8 col6\" >100.000%</td>\n",
       "      <td id=\"T_ea82e_row8_col7\" class=\"data row8 col7\" >100.000%</td>\n",
       "      <td id=\"T_ea82e_row8_col8\" class=\"data row8 col8\" >99.989%</td>\n",
       "      <td id=\"T_ea82e_row8_col9\" class=\"data row8 col9\" >99.145%</td>\n",
       "      <td id=\"T_ea82e_row8_col10\" class=\"data row8 col10\" >99.271%</td>\n",
       "    </tr>\n",
       "    <tr>\n",
       "      <th id=\"T_ea82e_level0_row9\" class=\"row_heading level0 row9\" >9</th>\n",
       "      <td id=\"T_ea82e_row9_col0\" class=\"data row9 col0\" >77.812%</td>\n",
       "      <td id=\"T_ea82e_row9_col1\" class=\"data row9 col1\" >76.080%</td>\n",
       "      <td id=\"T_ea82e_row9_col2\" class=\"data row9 col2\" >79.216%</td>\n",
       "      <td id=\"T_ea82e_row9_col3\" class=\"data row9 col3\" >99.937%</td>\n",
       "      <td id=\"T_ea82e_row9_col4\" class=\"data row9 col4\" >99.989%</td>\n",
       "      <td id=\"T_ea82e_row9_col5\" class=\"data row9 col5\" >99.979%</td>\n",
       "      <td id=\"T_ea82e_row9_col6\" class=\"data row9 col6\" >100.000%</td>\n",
       "      <td id=\"T_ea82e_row9_col7\" class=\"data row9 col7\" >100.000%</td>\n",
       "      <td id=\"T_ea82e_row9_col8\" class=\"data row9 col8\" >100.000%</td>\n",
       "      <td id=\"T_ea82e_row9_col9\" class=\"data row9 col9\" >99.430%</td>\n",
       "      <td id=\"T_ea82e_row9_col10\" class=\"data row9 col10\" >99.514%</td>\n",
       "    </tr>\n",
       "  </tbody>\n",
       "</table>\n"
      ],
      "text/plain": [
       "<pandas.io.formats.style.Styler at 0x24aa2e99e90>"
      ]
     },
     "execution_count": 9,
     "metadata": {},
     "output_type": "execute_result"
    }
   ],
   "source": [
    "# Color Legend:\n",
    "# - Red: maximum value in the column regardless of the epoch\n",
    "# - Green: maximum value in whole dataframe\n",
    "# - Navy: maximum value in the last row i.e. the last epoch\n",
    "\n",
    "print(\"Training Accuracy\")\n",
    "\n",
    "format_df(accuracy_df)"
   ]
  },
  {
   "cell_type": "code",
   "execution_count": 10,
   "metadata": {},
   "outputs": [
    {
     "data": {
      "application/vnd.plotly.v1+json": {
       "config": {
        "plotlyServerURL": "https://plot.ly"
       },
       "data": [
        {
         "mode": "lines+markers",
         "name": "DenseNet121_accuracy",
         "type": "scatter",
         "x": [
          0,
          1,
          2,
          3,
          4,
          5,
          6,
          7,
          8,
          9
         ],
         "y": [
          0.45274052023887634,
          0.6360756158828735,
          0.6863449215888977,
          0.7151758074760437,
          0.7305945754051208,
          0.7431619167327881,
          0.7588974833488464,
          0.7631217837333679,
          0.7629105448722839,
          0.7781180739402771
         ]
        },
        {
         "mode": "lines+markers",
         "name": "DenseNet169_accuracy",
         "type": "scatter",
         "x": [
          0,
          1,
          2,
          3,
          4,
          5,
          6,
          7,
          8,
          9
         ],
         "y": [
          0.44619283080101013,
          0.614003598690033,
          0.6598373651504517,
          0.6811701059341431,
          0.7116907835006714,
          0.719294548034668,
          0.7266870737075806,
          0.7428450584411621,
          0.7473862171173096,
          0.7607983946800232
         ]
        },
        {
         "mode": "lines+markers",
         "name": "DenseNet201_accuracy",
         "type": "scatter",
         "x": [
          0,
          1,
          2,
          3,
          4,
          5,
          6,
          7,
          8,
          9
         ],
         "y": [
          0.5068116784095764,
          0.6643785238265991,
          0.7120075821876526,
          0.7259478569030762,
          0.7468581795692444,
          0.7588974833488464,
          0.766290009021759,
          0.774949848651886,
          0.7857218384742737,
          0.7921639084815979
         ]
        },
        {
         "mode": "lines+markers",
         "name": "EfficientNetB0_accuracy",
         "type": "scatter",
         "x": [
          0,
          1,
          2,
          3,
          4,
          5,
          6,
          7,
          8,
          9
         ],
         "y": [
          0.9578624963760376,
          0.9892280101776123,
          0.9932411313056946,
          0.9961981177330017,
          0.9970429539680481,
          0.9984158873558044,
          0.9991551637649536,
          0.9991551637649536,
          0.9992607235908508,
          0.9993663430213928
         ]
        },
        {
         "mode": "lines+markers",
         "name": "EfficientNetV2B0_accuracy",
         "type": "scatter",
         "x": [
          0,
          1,
          2,
          3,
          4,
          5,
          6,
          7,
          8,
          9
         ],
         "y": [
          0.9748653769493103,
          0.9965149164199829,
          0.9982046484947205,
          0.9985215067863464,
          0.9990495443344116,
          0.9995775818824768,
          0.999788761138916,
          0.9995775818824768,
          0.9996832013130188,
          0.999894380569458
         ]
        },
        {
         "mode": "lines+markers",
         "name": "EfficientNetV2L_accuracy",
         "type": "scatter",
         "x": [
          0,
          1,
          2,
          3,
          4,
          5,
          6,
          7,
          8,
          9
         ],
         "y": [
          0.9822579026222229,
          0.9968317747116089,
          0.9973598122596741,
          0.9980990886688232,
          0.9986271262168884,
          0.9995775818824768,
          0.9993663430213928,
          0.999788761138916,
          0.9993663430213928,
          0.999788761138916
         ]
        },
        {
         "mode": "lines+markers",
         "name": "ResNet101_accuracy",
         "type": "scatter",
         "x": [
          0,
          1,
          2,
          3,
          4,
          5,
          6,
          7,
          8,
          9
         ],
         "y": [
          0.9243848323822021,
          0.9784560203552246,
          0.9882775545120239,
          0.9958813190460205,
          0.9983102679252625,
          0.9993663430213928,
          0.999894380569458,
          1,
          1,
          1
         ]
        },
        {
         "mode": "lines+markers",
         "name": "ResNet152_accuracy",
         "type": "scatter",
         "x": [
          0,
          1,
          2,
          3,
          4,
          5,
          6,
          7,
          8,
          9
         ],
         "y": [
          0.9216390252113342,
          0.9758158326148987,
          0.9882775545120239,
          0.9955644607543945,
          0.9986271262168884,
          0.9992607235908508,
          0.999894380569458,
          0.999788761138916,
          1,
          1
         ]
        },
        {
         "mode": "lines+markers",
         "name": "ResNet50_accuracy",
         "type": "scatter",
         "x": [
          0,
          1,
          2,
          3,
          4,
          5,
          6,
          7,
          8,
          9
         ],
         "y": [
          0.9222726821899414,
          0.9738093018531799,
          0.9845812916755676,
          0.991234540939331,
          0.9958813190460205,
          0.9976766109466553,
          0.9995775818824768,
          1,
          0.999894380569458,
          1
         ]
        },
        {
         "mode": "lines+markers",
         "name": "VGG16_accuracy",
         "type": "scatter",
         "x": [
          0,
          1,
          2,
          3,
          4,
          5,
          6,
          7,
          8,
          9
         ],
         "y": [
          0.7842433452606201,
          0.9189988374710083,
          0.9411764740943909,
          0.9561727643013,
          0.9666279554367065,
          0.9747597575187683,
          0.9818354845046997,
          0.9851093292236328,
          0.991445779800415,
          0.994297206401825
         ]
        },
        {
         "mode": "lines+markers",
         "name": "VGG19_accuracy",
         "type": "scatter",
         "x": [
          0,
          1,
          2,
          3,
          4,
          5,
          6,
          7,
          8,
          9
         ],
         "y": [
          0.7674517035484314,
          0.9203717112541199,
          0.9456120133399963,
          0.9619811773300171,
          0.9687401056289673,
          0.9780336022377014,
          0.9844756722450256,
          0.9884887337684631,
          0.9927130341529846,
          0.9951420426368713
         ]
        }
       ],
       "layout": {
        "height": 500,
        "template": {
         "data": {
          "bar": [
           {
            "error_x": {
             "color": "#2a3f5f"
            },
            "error_y": {
             "color": "#2a3f5f"
            },
            "marker": {
             "line": {
              "color": "#E5ECF6",
              "width": 0.5
             },
             "pattern": {
              "fillmode": "overlay",
              "size": 10,
              "solidity": 0.2
             }
            },
            "type": "bar"
           }
          ],
          "barpolar": [
           {
            "marker": {
             "line": {
              "color": "#E5ECF6",
              "width": 0.5
             },
             "pattern": {
              "fillmode": "overlay",
              "size": 10,
              "solidity": 0.2
             }
            },
            "type": "barpolar"
           }
          ],
          "carpet": [
           {
            "aaxis": {
             "endlinecolor": "#2a3f5f",
             "gridcolor": "white",
             "linecolor": "white",
             "minorgridcolor": "white",
             "startlinecolor": "#2a3f5f"
            },
            "baxis": {
             "endlinecolor": "#2a3f5f",
             "gridcolor": "white",
             "linecolor": "white",
             "minorgridcolor": "white",
             "startlinecolor": "#2a3f5f"
            },
            "type": "carpet"
           }
          ],
          "choropleth": [
           {
            "colorbar": {
             "outlinewidth": 0,
             "ticks": ""
            },
            "type": "choropleth"
           }
          ],
          "contour": [
           {
            "colorbar": {
             "outlinewidth": 0,
             "ticks": ""
            },
            "colorscale": [
             [
              0,
              "#0d0887"
             ],
             [
              0.1111111111111111,
              "#46039f"
             ],
             [
              0.2222222222222222,
              "#7201a8"
             ],
             [
              0.3333333333333333,
              "#9c179e"
             ],
             [
              0.4444444444444444,
              "#bd3786"
             ],
             [
              0.5555555555555556,
              "#d8576b"
             ],
             [
              0.6666666666666666,
              "#ed7953"
             ],
             [
              0.7777777777777778,
              "#fb9f3a"
             ],
             [
              0.8888888888888888,
              "#fdca26"
             ],
             [
              1,
              "#f0f921"
             ]
            ],
            "type": "contour"
           }
          ],
          "contourcarpet": [
           {
            "colorbar": {
             "outlinewidth": 0,
             "ticks": ""
            },
            "type": "contourcarpet"
           }
          ],
          "heatmap": [
           {
            "colorbar": {
             "outlinewidth": 0,
             "ticks": ""
            },
            "colorscale": [
             [
              0,
              "#0d0887"
             ],
             [
              0.1111111111111111,
              "#46039f"
             ],
             [
              0.2222222222222222,
              "#7201a8"
             ],
             [
              0.3333333333333333,
              "#9c179e"
             ],
             [
              0.4444444444444444,
              "#bd3786"
             ],
             [
              0.5555555555555556,
              "#d8576b"
             ],
             [
              0.6666666666666666,
              "#ed7953"
             ],
             [
              0.7777777777777778,
              "#fb9f3a"
             ],
             [
              0.8888888888888888,
              "#fdca26"
             ],
             [
              1,
              "#f0f921"
             ]
            ],
            "type": "heatmap"
           }
          ],
          "heatmapgl": [
           {
            "colorbar": {
             "outlinewidth": 0,
             "ticks": ""
            },
            "colorscale": [
             [
              0,
              "#0d0887"
             ],
             [
              0.1111111111111111,
              "#46039f"
             ],
             [
              0.2222222222222222,
              "#7201a8"
             ],
             [
              0.3333333333333333,
              "#9c179e"
             ],
             [
              0.4444444444444444,
              "#bd3786"
             ],
             [
              0.5555555555555556,
              "#d8576b"
             ],
             [
              0.6666666666666666,
              "#ed7953"
             ],
             [
              0.7777777777777778,
              "#fb9f3a"
             ],
             [
              0.8888888888888888,
              "#fdca26"
             ],
             [
              1,
              "#f0f921"
             ]
            ],
            "type": "heatmapgl"
           }
          ],
          "histogram": [
           {
            "marker": {
             "pattern": {
              "fillmode": "overlay",
              "size": 10,
              "solidity": 0.2
             }
            },
            "type": "histogram"
           }
          ],
          "histogram2d": [
           {
            "colorbar": {
             "outlinewidth": 0,
             "ticks": ""
            },
            "colorscale": [
             [
              0,
              "#0d0887"
             ],
             [
              0.1111111111111111,
              "#46039f"
             ],
             [
              0.2222222222222222,
              "#7201a8"
             ],
             [
              0.3333333333333333,
              "#9c179e"
             ],
             [
              0.4444444444444444,
              "#bd3786"
             ],
             [
              0.5555555555555556,
              "#d8576b"
             ],
             [
              0.6666666666666666,
              "#ed7953"
             ],
             [
              0.7777777777777778,
              "#fb9f3a"
             ],
             [
              0.8888888888888888,
              "#fdca26"
             ],
             [
              1,
              "#f0f921"
             ]
            ],
            "type": "histogram2d"
           }
          ],
          "histogram2dcontour": [
           {
            "colorbar": {
             "outlinewidth": 0,
             "ticks": ""
            },
            "colorscale": [
             [
              0,
              "#0d0887"
             ],
             [
              0.1111111111111111,
              "#46039f"
             ],
             [
              0.2222222222222222,
              "#7201a8"
             ],
             [
              0.3333333333333333,
              "#9c179e"
             ],
             [
              0.4444444444444444,
              "#bd3786"
             ],
             [
              0.5555555555555556,
              "#d8576b"
             ],
             [
              0.6666666666666666,
              "#ed7953"
             ],
             [
              0.7777777777777778,
              "#fb9f3a"
             ],
             [
              0.8888888888888888,
              "#fdca26"
             ],
             [
              1,
              "#f0f921"
             ]
            ],
            "type": "histogram2dcontour"
           }
          ],
          "mesh3d": [
           {
            "colorbar": {
             "outlinewidth": 0,
             "ticks": ""
            },
            "type": "mesh3d"
           }
          ],
          "parcoords": [
           {
            "line": {
             "colorbar": {
              "outlinewidth": 0,
              "ticks": ""
             }
            },
            "type": "parcoords"
           }
          ],
          "pie": [
           {
            "automargin": true,
            "type": "pie"
           }
          ],
          "scatter": [
           {
            "fillpattern": {
             "fillmode": "overlay",
             "size": 10,
             "solidity": 0.2
            },
            "type": "scatter"
           }
          ],
          "scatter3d": [
           {
            "line": {
             "colorbar": {
              "outlinewidth": 0,
              "ticks": ""
             }
            },
            "marker": {
             "colorbar": {
              "outlinewidth": 0,
              "ticks": ""
             }
            },
            "type": "scatter3d"
           }
          ],
          "scattercarpet": [
           {
            "marker": {
             "colorbar": {
              "outlinewidth": 0,
              "ticks": ""
             }
            },
            "type": "scattercarpet"
           }
          ],
          "scattergeo": [
           {
            "marker": {
             "colorbar": {
              "outlinewidth": 0,
              "ticks": ""
             }
            },
            "type": "scattergeo"
           }
          ],
          "scattergl": [
           {
            "marker": {
             "colorbar": {
              "outlinewidth": 0,
              "ticks": ""
             }
            },
            "type": "scattergl"
           }
          ],
          "scattermapbox": [
           {
            "marker": {
             "colorbar": {
              "outlinewidth": 0,
              "ticks": ""
             }
            },
            "type": "scattermapbox"
           }
          ],
          "scatterpolar": [
           {
            "marker": {
             "colorbar": {
              "outlinewidth": 0,
              "ticks": ""
             }
            },
            "type": "scatterpolar"
           }
          ],
          "scatterpolargl": [
           {
            "marker": {
             "colorbar": {
              "outlinewidth": 0,
              "ticks": ""
             }
            },
            "type": "scatterpolargl"
           }
          ],
          "scatterternary": [
           {
            "marker": {
             "colorbar": {
              "outlinewidth": 0,
              "ticks": ""
             }
            },
            "type": "scatterternary"
           }
          ],
          "surface": [
           {
            "colorbar": {
             "outlinewidth": 0,
             "ticks": ""
            },
            "colorscale": [
             [
              0,
              "#0d0887"
             ],
             [
              0.1111111111111111,
              "#46039f"
             ],
             [
              0.2222222222222222,
              "#7201a8"
             ],
             [
              0.3333333333333333,
              "#9c179e"
             ],
             [
              0.4444444444444444,
              "#bd3786"
             ],
             [
              0.5555555555555556,
              "#d8576b"
             ],
             [
              0.6666666666666666,
              "#ed7953"
             ],
             [
              0.7777777777777778,
              "#fb9f3a"
             ],
             [
              0.8888888888888888,
              "#fdca26"
             ],
             [
              1,
              "#f0f921"
             ]
            ],
            "type": "surface"
           }
          ],
          "table": [
           {
            "cells": {
             "fill": {
              "color": "#EBF0F8"
             },
             "line": {
              "color": "white"
             }
            },
            "header": {
             "fill": {
              "color": "#C8D4E3"
             },
             "line": {
              "color": "white"
             }
            },
            "type": "table"
           }
          ]
         },
         "layout": {
          "annotationdefaults": {
           "arrowcolor": "#2a3f5f",
           "arrowhead": 0,
           "arrowwidth": 1
          },
          "autotypenumbers": "strict",
          "coloraxis": {
           "colorbar": {
            "outlinewidth": 0,
            "ticks": ""
           }
          },
          "colorscale": {
           "diverging": [
            [
             0,
             "#8e0152"
            ],
            [
             0.1,
             "#c51b7d"
            ],
            [
             0.2,
             "#de77ae"
            ],
            [
             0.3,
             "#f1b6da"
            ],
            [
             0.4,
             "#fde0ef"
            ],
            [
             0.5,
             "#f7f7f7"
            ],
            [
             0.6,
             "#e6f5d0"
            ],
            [
             0.7,
             "#b8e186"
            ],
            [
             0.8,
             "#7fbc41"
            ],
            [
             0.9,
             "#4d9221"
            ],
            [
             1,
             "#276419"
            ]
           ],
           "sequential": [
            [
             0,
             "#0d0887"
            ],
            [
             0.1111111111111111,
             "#46039f"
            ],
            [
             0.2222222222222222,
             "#7201a8"
            ],
            [
             0.3333333333333333,
             "#9c179e"
            ],
            [
             0.4444444444444444,
             "#bd3786"
            ],
            [
             0.5555555555555556,
             "#d8576b"
            ],
            [
             0.6666666666666666,
             "#ed7953"
            ],
            [
             0.7777777777777778,
             "#fb9f3a"
            ],
            [
             0.8888888888888888,
             "#fdca26"
            ],
            [
             1,
             "#f0f921"
            ]
           ],
           "sequentialminus": [
            [
             0,
             "#0d0887"
            ],
            [
             0.1111111111111111,
             "#46039f"
            ],
            [
             0.2222222222222222,
             "#7201a8"
            ],
            [
             0.3333333333333333,
             "#9c179e"
            ],
            [
             0.4444444444444444,
             "#bd3786"
            ],
            [
             0.5555555555555556,
             "#d8576b"
            ],
            [
             0.6666666666666666,
             "#ed7953"
            ],
            [
             0.7777777777777778,
             "#fb9f3a"
            ],
            [
             0.8888888888888888,
             "#fdca26"
            ],
            [
             1,
             "#f0f921"
            ]
           ]
          },
          "colorway": [
           "#636efa",
           "#EF553B",
           "#00cc96",
           "#ab63fa",
           "#FFA15A",
           "#19d3f3",
           "#FF6692",
           "#B6E880",
           "#FF97FF",
           "#FECB52"
          ],
          "font": {
           "color": "#2a3f5f"
          },
          "geo": {
           "bgcolor": "white",
           "lakecolor": "white",
           "landcolor": "#E5ECF6",
           "showlakes": true,
           "showland": true,
           "subunitcolor": "white"
          },
          "hoverlabel": {
           "align": "left"
          },
          "hovermode": "closest",
          "mapbox": {
           "style": "light"
          },
          "paper_bgcolor": "white",
          "plot_bgcolor": "#E5ECF6",
          "polar": {
           "angularaxis": {
            "gridcolor": "white",
            "linecolor": "white",
            "ticks": ""
           },
           "bgcolor": "#E5ECF6",
           "radialaxis": {
            "gridcolor": "white",
            "linecolor": "white",
            "ticks": ""
           }
          },
          "scene": {
           "xaxis": {
            "backgroundcolor": "#E5ECF6",
            "gridcolor": "white",
            "gridwidth": 2,
            "linecolor": "white",
            "showbackground": true,
            "ticks": "",
            "zerolinecolor": "white"
           },
           "yaxis": {
            "backgroundcolor": "#E5ECF6",
            "gridcolor": "white",
            "gridwidth": 2,
            "linecolor": "white",
            "showbackground": true,
            "ticks": "",
            "zerolinecolor": "white"
           },
           "zaxis": {
            "backgroundcolor": "#E5ECF6",
            "gridcolor": "white",
            "gridwidth": 2,
            "linecolor": "white",
            "showbackground": true,
            "ticks": "",
            "zerolinecolor": "white"
           }
          },
          "shapedefaults": {
           "line": {
            "color": "#2a3f5f"
           }
          },
          "ternary": {
           "aaxis": {
            "gridcolor": "white",
            "linecolor": "white",
            "ticks": ""
           },
           "baxis": {
            "gridcolor": "white",
            "linecolor": "white",
            "ticks": ""
           },
           "bgcolor": "#E5ECF6",
           "caxis": {
            "gridcolor": "white",
            "linecolor": "white",
            "ticks": ""
           }
          },
          "title": {
           "x": 0.05
          },
          "xaxis": {
           "automargin": true,
           "gridcolor": "white",
           "linecolor": "white",
           "ticks": "",
           "title": {
            "standoff": 15
           },
           "zerolinecolor": "white",
           "zerolinewidth": 2
          },
          "yaxis": {
           "automargin": true,
           "gridcolor": "white",
           "linecolor": "white",
           "ticks": "",
           "title": {
            "standoff": 15
           },
           "zerolinecolor": "white",
           "zerolinewidth": 2
          }
         }
        },
        "title": {
         "text": "Training Accuracy"
        },
        "width": 1000,
        "xaxis": {
         "title": {
          "text": "Epoch"
         }
        },
        "yaxis": {
         "tickformat": ".3%",
         "title": {
          "text": "Accuracy"
         }
        }
       }
      }
     },
     "metadata": {},
     "output_type": "display_data"
    }
   ],
   "source": [
    "plot_accuracy(accuracy_df, 'Training Accuracy')"
   ]
  },
  {
   "cell_type": "markdown",
   "metadata": {},
   "source": [
    "## Validation Accuracy"
   ]
  },
  {
   "cell_type": "code",
   "execution_count": 11,
   "metadata": {},
   "outputs": [],
   "source": [
    "_, val_accuracy_df = accuracy_data(df_exp1)"
   ]
  },
  {
   "cell_type": "markdown",
   "metadata": {},
   "source": [
    "Same pattern is shown in validation accuracy values as far as `DenseNet` is concerned. But `EfficientNetV2L` performs best among all models."
   ]
  },
  {
   "cell_type": "code",
   "execution_count": 12,
   "metadata": {},
   "outputs": [
    {
     "name": "stdout",
     "output_type": "stream",
     "text": [
      "Validation Accuracy\n"
     ]
    },
    {
     "data": {
      "text/html": [
       "<style type=\"text/css\">\n",
       "#T_987aa_row0_col5, #T_987aa_row1_col5, #T_987aa_row2_col5, #T_987aa_row6_col9, #T_987aa_row7_col7, #T_987aa_row7_col8, #T_987aa_row8_col0, #T_987aa_row8_col2, #T_987aa_row8_col3, #T_987aa_row8_col5, #T_987aa_row8_col6, #T_987aa_row8_col7, #T_987aa_row8_col10, #T_987aa_row9_col1 {\n",
       "  background-color: red;\n",
       "}\n",
       "#T_987aa_row7_col4 {\n",
       "  background-color: red;\n",
       "  background-color: green;\n",
       "}\n",
       "#T_987aa_row9_col5 {\n",
       "  background-color: red;\n",
       "  background-color: navy;\n",
       "}\n",
       "</style>\n",
       "<table id=\"T_987aa\">\n",
       "  <thead>\n",
       "    <tr>\n",
       "      <th class=\"blank level0\" >&nbsp;</th>\n",
       "      <th id=\"T_987aa_level0_col0\" class=\"col_heading level0 col0\" >DenseNet121_val_accuracy</th>\n",
       "      <th id=\"T_987aa_level0_col1\" class=\"col_heading level0 col1\" >DenseNet169_val_accuracy</th>\n",
       "      <th id=\"T_987aa_level0_col2\" class=\"col_heading level0 col2\" >DenseNet201_val_accuracy</th>\n",
       "      <th id=\"T_987aa_level0_col3\" class=\"col_heading level0 col3\" >EfficientNetB0_val_accuracy</th>\n",
       "      <th id=\"T_987aa_level0_col4\" class=\"col_heading level0 col4\" >EfficientNetV2B0_val_accuracy</th>\n",
       "      <th id=\"T_987aa_level0_col5\" class=\"col_heading level0 col5\" >EfficientNetV2L_val_accuracy</th>\n",
       "      <th id=\"T_987aa_level0_col6\" class=\"col_heading level0 col6\" >ResNet101_val_accuracy</th>\n",
       "      <th id=\"T_987aa_level0_col7\" class=\"col_heading level0 col7\" >ResNet152_val_accuracy</th>\n",
       "      <th id=\"T_987aa_level0_col8\" class=\"col_heading level0 col8\" >ResNet50_val_accuracy</th>\n",
       "      <th id=\"T_987aa_level0_col9\" class=\"col_heading level0 col9\" >VGG16_val_accuracy</th>\n",
       "      <th id=\"T_987aa_level0_col10\" class=\"col_heading level0 col10\" >VGG19_val_accuracy</th>\n",
       "    </tr>\n",
       "  </thead>\n",
       "  <tbody>\n",
       "    <tr>\n",
       "      <th id=\"T_987aa_level0_row0\" class=\"row_heading level0 row0\" >0</th>\n",
       "      <td id=\"T_987aa_row0_col0\" class=\"data row0 col0\" >57.580%</td>\n",
       "      <td id=\"T_987aa_row0_col1\" class=\"data row0 col1\" >55.618%</td>\n",
       "      <td id=\"T_987aa_row0_col2\" class=\"data row0 col2\" >58.752%</td>\n",
       "      <td id=\"T_987aa_row0_col3\" class=\"data row0 col3\" >98.904%</td>\n",
       "      <td id=\"T_987aa_row0_col4\" class=\"data row0 col4\" >99.490%</td>\n",
       "      <td id=\"T_987aa_row0_col5\" class=\"data row0 col5\" >99.720%</td>\n",
       "      <td id=\"T_987aa_row0_col6\" class=\"data row0 col6\" >96.382%</td>\n",
       "      <td id=\"T_987aa_row0_col7\" class=\"data row0 col7\" >96.076%</td>\n",
       "      <td id=\"T_987aa_row0_col8\" class=\"data row0 col8\" >95.643%</td>\n",
       "      <td id=\"T_987aa_row0_col9\" class=\"data row0 col9\" >88.178%</td>\n",
       "      <td id=\"T_987aa_row0_col10\" class=\"data row0 col10\" >89.325%</td>\n",
       "    </tr>\n",
       "    <tr>\n",
       "      <th id=\"T_987aa_level0_row1\" class=\"row_heading level0 row1\" >1</th>\n",
       "      <td id=\"T_987aa_row1_col0\" class=\"data row1 col0\" >65.605%</td>\n",
       "      <td id=\"T_987aa_row1_col1\" class=\"data row1 col1\" >62.395%</td>\n",
       "      <td id=\"T_987aa_row1_col2\" class=\"data row1 col2\" >67.873%</td>\n",
       "      <td id=\"T_987aa_row1_col3\" class=\"data row1 col3\" >99.108%</td>\n",
       "      <td id=\"T_987aa_row1_col4\" class=\"data row1 col4\" >99.592%</td>\n",
       "      <td id=\"T_987aa_row1_col5\" class=\"data row1 col5\" >99.720%</td>\n",
       "      <td id=\"T_987aa_row1_col6\" class=\"data row1 col6\" >96.994%</td>\n",
       "      <td id=\"T_987aa_row1_col7\" class=\"data row1 col7\" >96.841%</td>\n",
       "      <td id=\"T_987aa_row1_col8\" class=\"data row1 col8\" >96.968%</td>\n",
       "      <td id=\"T_987aa_row1_col9\" class=\"data row1 col9\" >91.287%</td>\n",
       "      <td id=\"T_987aa_row1_col10\" class=\"data row1 col10\" >91.822%</td>\n",
       "    </tr>\n",
       "    <tr>\n",
       "      <th id=\"T_987aa_level0_row2\" class=\"row_heading level0 row2\" >2</th>\n",
       "      <td id=\"T_987aa_row2_col0\" class=\"data row2 col0\" >67.567%</td>\n",
       "      <td id=\"T_987aa_row2_col1\" class=\"data row2 col1\" >66.497%</td>\n",
       "      <td id=\"T_987aa_row2_col2\" class=\"data row2 col2\" >67.338%</td>\n",
       "      <td id=\"T_987aa_row2_col3\" class=\"data row2 col3\" >99.083%</td>\n",
       "      <td id=\"T_987aa_row2_col4\" class=\"data row2 col4\" >99.592%</td>\n",
       "      <td id=\"T_987aa_row2_col5\" class=\"data row2 col5\" >99.720%</td>\n",
       "      <td id=\"T_987aa_row2_col6\" class=\"data row2 col6\" >96.866%</td>\n",
       "      <td id=\"T_987aa_row2_col7\" class=\"data row2 col7\" >97.070%</td>\n",
       "      <td id=\"T_987aa_row2_col8\" class=\"data row2 col8\" >97.019%</td>\n",
       "      <td id=\"T_987aa_row2_col9\" class=\"data row2 col9\" >91.975%</td>\n",
       "      <td id=\"T_987aa_row2_col10\" class=\"data row2 col10\" >93.045%</td>\n",
       "    </tr>\n",
       "    <tr>\n",
       "      <th id=\"T_987aa_level0_row3\" class=\"row_heading level0 row3\" >3</th>\n",
       "      <td id=\"T_987aa_row3_col0\" class=\"data row3 col0\" >69.656%</td>\n",
       "      <td id=\"T_987aa_row3_col1\" class=\"data row3 col1\" >67.567%</td>\n",
       "      <td id=\"T_987aa_row3_col2\" class=\"data row3 col2\" >67.465%</td>\n",
       "      <td id=\"T_987aa_row3_col3\" class=\"data row3 col3\" >99.236%</td>\n",
       "      <td id=\"T_987aa_row3_col4\" class=\"data row3 col4\" >99.669%</td>\n",
       "      <td id=\"T_987aa_row3_col5\" class=\"data row3 col5\" >99.669%</td>\n",
       "      <td id=\"T_987aa_row3_col6\" class=\"data row3 col6\" >96.968%</td>\n",
       "      <td id=\"T_987aa_row3_col7\" class=\"data row3 col7\" >97.197%</td>\n",
       "      <td id=\"T_987aa_row3_col8\" class=\"data row3 col8\" >96.943%</td>\n",
       "      <td id=\"T_987aa_row3_col9\" class=\"data row3 col9\" >92.331%</td>\n",
       "      <td id=\"T_987aa_row3_col10\" class=\"data row3 col10\" >93.452%</td>\n",
       "    </tr>\n",
       "    <tr>\n",
       "      <th id=\"T_987aa_level0_row4\" class=\"row_heading level0 row4\" >4</th>\n",
       "      <td id=\"T_987aa_row4_col0\" class=\"data row4 col0\" >72.127%</td>\n",
       "      <td id=\"T_987aa_row4_col1\" class=\"data row4 col1\" >66.599%</td>\n",
       "      <td id=\"T_987aa_row4_col2\" class=\"data row4 col2\" >71.083%</td>\n",
       "      <td id=\"T_987aa_row4_col3\" class=\"data row4 col3\" >99.185%</td>\n",
       "      <td id=\"T_987aa_row4_col4\" class=\"data row4 col4\" >99.643%</td>\n",
       "      <td id=\"T_987aa_row4_col5\" class=\"data row4 col5\" >99.669%</td>\n",
       "      <td id=\"T_987aa_row4_col6\" class=\"data row4 col6\" >97.096%</td>\n",
       "      <td id=\"T_987aa_row4_col7\" class=\"data row4 col7\" >97.248%</td>\n",
       "      <td id=\"T_987aa_row4_col8\" class=\"data row4 col8\" >97.197%</td>\n",
       "      <td id=\"T_987aa_row4_col9\" class=\"data row4 col9\" >92.280%</td>\n",
       "      <td id=\"T_987aa_row4_col10\" class=\"data row4 col10\" >93.936%</td>\n",
       "    </tr>\n",
       "    <tr>\n",
       "      <th id=\"T_987aa_level0_row5\" class=\"row_heading level0 row5\" >5</th>\n",
       "      <td id=\"T_987aa_row5_col0\" class=\"data row5 col0\" >73.503%</td>\n",
       "      <td id=\"T_987aa_row5_col1\" class=\"data row5 col1\" >70.089%</td>\n",
       "      <td id=\"T_987aa_row5_col2\" class=\"data row5 col2\" >71.185%</td>\n",
       "      <td id=\"T_987aa_row5_col3\" class=\"data row5 col3\" >99.236%</td>\n",
       "      <td id=\"T_987aa_row5_col4\" class=\"data row5 col4\" >99.669%</td>\n",
       "      <td id=\"T_987aa_row5_col5\" class=\"data row5 col5\" >99.669%</td>\n",
       "      <td id=\"T_987aa_row5_col6\" class=\"data row5 col6\" >97.146%</td>\n",
       "      <td id=\"T_987aa_row5_col7\" class=\"data row5 col7\" >97.274%</td>\n",
       "      <td id=\"T_987aa_row5_col8\" class=\"data row5 col8\" >96.968%</td>\n",
       "      <td id=\"T_987aa_row5_col9\" class=\"data row5 col9\" >92.561%</td>\n",
       "      <td id=\"T_987aa_row5_col10\" class=\"data row5 col10\" >93.554%</td>\n",
       "    </tr>\n",
       "    <tr>\n",
       "      <th id=\"T_987aa_level0_row6\" class=\"row_heading level0 row6\" >6</th>\n",
       "      <td id=\"T_987aa_row6_col0\" class=\"data row6 col0\" >72.076%</td>\n",
       "      <td id=\"T_987aa_row6_col1\" class=\"data row6 col1\" >70.318%</td>\n",
       "      <td id=\"T_987aa_row6_col2\" class=\"data row6 col2\" >71.236%</td>\n",
       "      <td id=\"T_987aa_row6_col3\" class=\"data row6 col3\" >99.236%</td>\n",
       "      <td id=\"T_987aa_row6_col4\" class=\"data row6 col4\" >99.694%</td>\n",
       "      <td id=\"T_987aa_row6_col5\" class=\"data row6 col5\" >99.694%</td>\n",
       "      <td id=\"T_987aa_row6_col6\" class=\"data row6 col6\" >97.096%</td>\n",
       "      <td id=\"T_987aa_row6_col7\" class=\"data row6 col7\" >97.401%</td>\n",
       "      <td id=\"T_987aa_row6_col8\" class=\"data row6 col8\" >97.146%</td>\n",
       "      <td id=\"T_987aa_row6_col9\" class=\"data row6 col9\" >93.045%</td>\n",
       "      <td id=\"T_987aa_row6_col10\" class=\"data row6 col10\" >93.962%</td>\n",
       "    </tr>\n",
       "    <tr>\n",
       "      <th id=\"T_987aa_level0_row7\" class=\"row_heading level0 row7\" >7</th>\n",
       "      <td id=\"T_987aa_row7_col0\" class=\"data row7 col0\" >73.274%</td>\n",
       "      <td id=\"T_987aa_row7_col1\" class=\"data row7 col1\" >68.866%</td>\n",
       "      <td id=\"T_987aa_row7_col2\" class=\"data row7 col2\" >72.510%</td>\n",
       "      <td id=\"T_987aa_row7_col3\" class=\"data row7 col3\" >99.287%</td>\n",
       "      <td id=\"T_987aa_row7_col4\" class=\"data row7 col4\" >99.745%</td>\n",
       "      <td id=\"T_987aa_row7_col5\" class=\"data row7 col5\" >99.669%</td>\n",
       "      <td id=\"T_987aa_row7_col6\" class=\"data row7 col6\" >97.146%</td>\n",
       "      <td id=\"T_987aa_row7_col7\" class=\"data row7 col7\" >97.580%</td>\n",
       "      <td id=\"T_987aa_row7_col8\" class=\"data row7 col8\" >97.503%</td>\n",
       "      <td id=\"T_987aa_row7_col9\" class=\"data row7 col9\" >92.815%</td>\n",
       "      <td id=\"T_987aa_row7_col10\" class=\"data row7 col10\" >94.191%</td>\n",
       "    </tr>\n",
       "    <tr>\n",
       "      <th id=\"T_987aa_level0_row8\" class=\"row_heading level0 row8\" >8</th>\n",
       "      <td id=\"T_987aa_row8_col0\" class=\"data row8 col0\" >74.879%</td>\n",
       "      <td id=\"T_987aa_row8_col1\" class=\"data row8 col1\" >67.975%</td>\n",
       "      <td id=\"T_987aa_row8_col2\" class=\"data row8 col2\" >73.350%</td>\n",
       "      <td id=\"T_987aa_row8_col3\" class=\"data row8 col3\" >99.312%</td>\n",
       "      <td id=\"T_987aa_row8_col4\" class=\"data row8 col4\" >99.669%</td>\n",
       "      <td id=\"T_987aa_row8_col5\" class=\"data row8 col5\" >99.720%</td>\n",
       "      <td id=\"T_987aa_row8_col6\" class=\"data row8 col6\" >97.197%</td>\n",
       "      <td id=\"T_987aa_row8_col7\" class=\"data row8 col7\" >97.580%</td>\n",
       "      <td id=\"T_987aa_row8_col8\" class=\"data row8 col8\" >97.427%</td>\n",
       "      <td id=\"T_987aa_row8_col9\" class=\"data row8 col9\" >92.866%</td>\n",
       "      <td id=\"T_987aa_row8_col10\" class=\"data row8 col10\" >94.395%</td>\n",
       "    </tr>\n",
       "    <tr>\n",
       "      <th id=\"T_987aa_level0_row9\" class=\"row_heading level0 row9\" >9</th>\n",
       "      <td id=\"T_987aa_row9_col0\" class=\"data row9 col0\" >73.809%</td>\n",
       "      <td id=\"T_987aa_row9_col1\" class=\"data row9 col1\" >71.185%</td>\n",
       "      <td id=\"T_987aa_row9_col2\" class=\"data row9 col2\" >73.045%</td>\n",
       "      <td id=\"T_987aa_row9_col3\" class=\"data row9 col3\" >99.261%</td>\n",
       "      <td id=\"T_987aa_row9_col4\" class=\"data row9 col4\" >99.643%</td>\n",
       "      <td id=\"T_987aa_row9_col5\" class=\"data row9 col5\" >99.720%</td>\n",
       "      <td id=\"T_987aa_row9_col6\" class=\"data row9 col6\" >96.994%</td>\n",
       "      <td id=\"T_987aa_row9_col7\" class=\"data row9 col7\" >97.452%</td>\n",
       "      <td id=\"T_987aa_row9_col8\" class=\"data row9 col8\" >97.427%</td>\n",
       "      <td id=\"T_987aa_row9_col9\" class=\"data row9 col9\" >93.019%</td>\n",
       "      <td id=\"T_987aa_row9_col10\" class=\"data row9 col10\" >94.217%</td>\n",
       "    </tr>\n",
       "  </tbody>\n",
       "</table>\n"
      ],
      "text/plain": [
       "<pandas.io.formats.style.Styler at 0x24aa4525d10>"
      ]
     },
     "execution_count": 12,
     "metadata": {},
     "output_type": "execute_result"
    }
   ],
   "source": [
    "# Color Legend:\n",
    "# - Red: maximum value in the column regardless of the epoch\n",
    "# - Green: maximum value in whole dataframe\n",
    "# - Navy: maximum value in the last row i.e. the last epoch\n",
    "\n",
    "print(\"Validation Accuracy\")\n",
    "\n",
    "format_df(val_accuracy_df)"
   ]
  },
  {
   "cell_type": "code",
   "execution_count": 13,
   "metadata": {},
   "outputs": [
    {
     "data": {
      "application/vnd.plotly.v1+json": {
       "config": {
        "plotlyServerURL": "https://plot.ly"
       },
       "data": [
        {
         "mode": "lines+markers",
         "name": "DenseNet121_val_accuracy",
         "type": "scatter",
         "x": [
          0,
          1,
          2,
          3,
          4,
          5,
          6,
          7,
          8,
          9
         ],
         "y": [
          0.5757961869239807,
          0.656050980091095,
          0.6756687760353088,
          0.6965605020523071,
          0.7212738990783691,
          0.7350318431854248,
          0.7207643389701843,
          0.7327388525009155,
          0.7487897872924805,
          0.7380891442298889
         ]
        },
        {
         "mode": "lines+markers",
         "name": "DenseNet169_val_accuracy",
         "type": "scatter",
         "x": [
          0,
          1,
          2,
          3,
          4,
          5,
          6,
          7,
          8,
          9
         ],
         "y": [
          0.5561783313751221,
          0.6239490509033203,
          0.6649681329727173,
          0.6756687760353088,
          0.6659872531890869,
          0.7008917331695557,
          0.7031847238540649,
          0.6886624097824097,
          0.6797451972961426,
          0.7118471264839172
         ]
        },
        {
         "mode": "lines+markers",
         "name": "DenseNet201_val_accuracy",
         "type": "scatter",
         "x": [
          0,
          1,
          2,
          3,
          4,
          5,
          6,
          7,
          8,
          9
         ],
         "y": [
          0.5875159502029419,
          0.6787261366844177,
          0.6733757853507996,
          0.6746496558189392,
          0.7108280062675476,
          0.7118471264839172,
          0.712356686592102,
          0.7250955700874329,
          0.7335031628608704,
          0.7304458618164062
         ]
        },
        {
         "mode": "lines+markers",
         "name": "EfficientNetB0_val_accuracy",
         "type": "scatter",
         "x": [
          0,
          1,
          2,
          3,
          4,
          5,
          6,
          7,
          8,
          9
         ],
         "y": [
          0.9890446066856384,
          0.9910827875137329,
          0.9908280372619629,
          0.9923567175865173,
          0.9918471574783325,
          0.9923567175865173,
          0.9923567175865173,
          0.9928662180900574,
          0.9931210279464722,
          0.9926114678382874
         ]
        },
        {
         "mode": "lines+markers",
         "name": "EfficientNetV2B0_val_accuracy",
         "type": "scatter",
         "x": [
          0,
          1,
          2,
          3,
          4,
          5,
          6,
          7,
          8,
          9
         ],
         "y": [
          0.9949044585227966,
          0.9959235787391663,
          0.9959235787391663,
          0.9966878890991211,
          0.9964331388473511,
          0.9966878890991211,
          0.9969426989555359,
          0.9974522590637207,
          0.9966878890991211,
          0.9964331388473511
         ]
        },
        {
         "mode": "lines+markers",
         "name": "EfficientNetV2L_val_accuracy",
         "type": "scatter",
         "x": [
          0,
          1,
          2,
          3,
          4,
          5,
          6,
          7,
          8,
          9
         ],
         "y": [
          0.9971974492073059,
          0.9971974492073059,
          0.9971974492073059,
          0.9966878890991211,
          0.9966878890991211,
          0.9966878890991211,
          0.9969426989555359,
          0.9966878890991211,
          0.9971974492073059,
          0.9971974492073059
         ]
        },
        {
         "mode": "lines+markers",
         "name": "ResNet101_val_accuracy",
         "type": "scatter",
         "x": [
          0,
          1,
          2,
          3,
          4,
          5,
          6,
          7,
          8,
          9
         ],
         "y": [
          0.9638216495513916,
          0.9699363112449646,
          0.968662440776825,
          0.9696815013885498,
          0.9709554314613342,
          0.971464991569519,
          0.9709554314613342,
          0.971464991569519,
          0.9719745516777039,
          0.9699363112449646
         ]
        },
        {
         "mode": "lines+markers",
         "name": "ResNet152_val_accuracy",
         "type": "scatter",
         "x": [
          0,
          1,
          2,
          3,
          4,
          5,
          6,
          7,
          8,
          9
         ],
         "y": [
          0.9607643485069275,
          0.9684076309204102,
          0.9707006216049194,
          0.9719745516777039,
          0.9724840521812439,
          0.9727388620376587,
          0.9740127325057983,
          0.9757961630821228,
          0.9757961630821228,
          0.9745222926139832
         ]
        },
        {
         "mode": "lines+markers",
         "name": "ResNet50_val_accuracy",
         "type": "scatter",
         "x": [
          0,
          1,
          2,
          3,
          4,
          5,
          6,
          7,
          8,
          9
         ],
         "y": [
          0.956433117389679,
          0.9696815013885498,
          0.9701910614967346,
          0.9694267511367798,
          0.9719745516777039,
          0.9696815013885498,
          0.971464991569519,
          0.975031852722168,
          0.9742675423622131,
          0.9742675423622131
         ]
        },
        {
         "mode": "lines+markers",
         "name": "VGG16_val_accuracy",
         "type": "scatter",
         "x": [
          0,
          1,
          2,
          3,
          4,
          5,
          6,
          7,
          8,
          9
         ],
         "y": [
          0.8817834258079529,
          0.9128662347793579,
          0.9197452068328857,
          0.9233121275901794,
          0.9228025674819946,
          0.9256051182746887,
          0.9304458498954773,
          0.928152859210968,
          0.9286624193191528,
          0.9301910996437073
         ]
        },
        {
         "mode": "lines+markers",
         "name": "VGG19_val_accuracy",
         "type": "scatter",
         "x": [
          0,
          1,
          2,
          3,
          4,
          5,
          6,
          7,
          8,
          9
         ],
         "y": [
          0.8932483792304993,
          0.9182165861129761,
          0.9304458498954773,
          0.934522271156311,
          0.9393630623817444,
          0.9355413913726807,
          0.9396178126335144,
          0.9419108033180237,
          0.9439490437507629,
          0.9421656131744385
         ]
        }
       ],
       "layout": {
        "height": 500,
        "template": {
         "data": {
          "bar": [
           {
            "error_x": {
             "color": "#2a3f5f"
            },
            "error_y": {
             "color": "#2a3f5f"
            },
            "marker": {
             "line": {
              "color": "#E5ECF6",
              "width": 0.5
             },
             "pattern": {
              "fillmode": "overlay",
              "size": 10,
              "solidity": 0.2
             }
            },
            "type": "bar"
           }
          ],
          "barpolar": [
           {
            "marker": {
             "line": {
              "color": "#E5ECF6",
              "width": 0.5
             },
             "pattern": {
              "fillmode": "overlay",
              "size": 10,
              "solidity": 0.2
             }
            },
            "type": "barpolar"
           }
          ],
          "carpet": [
           {
            "aaxis": {
             "endlinecolor": "#2a3f5f",
             "gridcolor": "white",
             "linecolor": "white",
             "minorgridcolor": "white",
             "startlinecolor": "#2a3f5f"
            },
            "baxis": {
             "endlinecolor": "#2a3f5f",
             "gridcolor": "white",
             "linecolor": "white",
             "minorgridcolor": "white",
             "startlinecolor": "#2a3f5f"
            },
            "type": "carpet"
           }
          ],
          "choropleth": [
           {
            "colorbar": {
             "outlinewidth": 0,
             "ticks": ""
            },
            "type": "choropleth"
           }
          ],
          "contour": [
           {
            "colorbar": {
             "outlinewidth": 0,
             "ticks": ""
            },
            "colorscale": [
             [
              0,
              "#0d0887"
             ],
             [
              0.1111111111111111,
              "#46039f"
             ],
             [
              0.2222222222222222,
              "#7201a8"
             ],
             [
              0.3333333333333333,
              "#9c179e"
             ],
             [
              0.4444444444444444,
              "#bd3786"
             ],
             [
              0.5555555555555556,
              "#d8576b"
             ],
             [
              0.6666666666666666,
              "#ed7953"
             ],
             [
              0.7777777777777778,
              "#fb9f3a"
             ],
             [
              0.8888888888888888,
              "#fdca26"
             ],
             [
              1,
              "#f0f921"
             ]
            ],
            "type": "contour"
           }
          ],
          "contourcarpet": [
           {
            "colorbar": {
             "outlinewidth": 0,
             "ticks": ""
            },
            "type": "contourcarpet"
           }
          ],
          "heatmap": [
           {
            "colorbar": {
             "outlinewidth": 0,
             "ticks": ""
            },
            "colorscale": [
             [
              0,
              "#0d0887"
             ],
             [
              0.1111111111111111,
              "#46039f"
             ],
             [
              0.2222222222222222,
              "#7201a8"
             ],
             [
              0.3333333333333333,
              "#9c179e"
             ],
             [
              0.4444444444444444,
              "#bd3786"
             ],
             [
              0.5555555555555556,
              "#d8576b"
             ],
             [
              0.6666666666666666,
              "#ed7953"
             ],
             [
              0.7777777777777778,
              "#fb9f3a"
             ],
             [
              0.8888888888888888,
              "#fdca26"
             ],
             [
              1,
              "#f0f921"
             ]
            ],
            "type": "heatmap"
           }
          ],
          "heatmapgl": [
           {
            "colorbar": {
             "outlinewidth": 0,
             "ticks": ""
            },
            "colorscale": [
             [
              0,
              "#0d0887"
             ],
             [
              0.1111111111111111,
              "#46039f"
             ],
             [
              0.2222222222222222,
              "#7201a8"
             ],
             [
              0.3333333333333333,
              "#9c179e"
             ],
             [
              0.4444444444444444,
              "#bd3786"
             ],
             [
              0.5555555555555556,
              "#d8576b"
             ],
             [
              0.6666666666666666,
              "#ed7953"
             ],
             [
              0.7777777777777778,
              "#fb9f3a"
             ],
             [
              0.8888888888888888,
              "#fdca26"
             ],
             [
              1,
              "#f0f921"
             ]
            ],
            "type": "heatmapgl"
           }
          ],
          "histogram": [
           {
            "marker": {
             "pattern": {
              "fillmode": "overlay",
              "size": 10,
              "solidity": 0.2
             }
            },
            "type": "histogram"
           }
          ],
          "histogram2d": [
           {
            "colorbar": {
             "outlinewidth": 0,
             "ticks": ""
            },
            "colorscale": [
             [
              0,
              "#0d0887"
             ],
             [
              0.1111111111111111,
              "#46039f"
             ],
             [
              0.2222222222222222,
              "#7201a8"
             ],
             [
              0.3333333333333333,
              "#9c179e"
             ],
             [
              0.4444444444444444,
              "#bd3786"
             ],
             [
              0.5555555555555556,
              "#d8576b"
             ],
             [
              0.6666666666666666,
              "#ed7953"
             ],
             [
              0.7777777777777778,
              "#fb9f3a"
             ],
             [
              0.8888888888888888,
              "#fdca26"
             ],
             [
              1,
              "#f0f921"
             ]
            ],
            "type": "histogram2d"
           }
          ],
          "histogram2dcontour": [
           {
            "colorbar": {
             "outlinewidth": 0,
             "ticks": ""
            },
            "colorscale": [
             [
              0,
              "#0d0887"
             ],
             [
              0.1111111111111111,
              "#46039f"
             ],
             [
              0.2222222222222222,
              "#7201a8"
             ],
             [
              0.3333333333333333,
              "#9c179e"
             ],
             [
              0.4444444444444444,
              "#bd3786"
             ],
             [
              0.5555555555555556,
              "#d8576b"
             ],
             [
              0.6666666666666666,
              "#ed7953"
             ],
             [
              0.7777777777777778,
              "#fb9f3a"
             ],
             [
              0.8888888888888888,
              "#fdca26"
             ],
             [
              1,
              "#f0f921"
             ]
            ],
            "type": "histogram2dcontour"
           }
          ],
          "mesh3d": [
           {
            "colorbar": {
             "outlinewidth": 0,
             "ticks": ""
            },
            "type": "mesh3d"
           }
          ],
          "parcoords": [
           {
            "line": {
             "colorbar": {
              "outlinewidth": 0,
              "ticks": ""
             }
            },
            "type": "parcoords"
           }
          ],
          "pie": [
           {
            "automargin": true,
            "type": "pie"
           }
          ],
          "scatter": [
           {
            "fillpattern": {
             "fillmode": "overlay",
             "size": 10,
             "solidity": 0.2
            },
            "type": "scatter"
           }
          ],
          "scatter3d": [
           {
            "line": {
             "colorbar": {
              "outlinewidth": 0,
              "ticks": ""
             }
            },
            "marker": {
             "colorbar": {
              "outlinewidth": 0,
              "ticks": ""
             }
            },
            "type": "scatter3d"
           }
          ],
          "scattercarpet": [
           {
            "marker": {
             "colorbar": {
              "outlinewidth": 0,
              "ticks": ""
             }
            },
            "type": "scattercarpet"
           }
          ],
          "scattergeo": [
           {
            "marker": {
             "colorbar": {
              "outlinewidth": 0,
              "ticks": ""
             }
            },
            "type": "scattergeo"
           }
          ],
          "scattergl": [
           {
            "marker": {
             "colorbar": {
              "outlinewidth": 0,
              "ticks": ""
             }
            },
            "type": "scattergl"
           }
          ],
          "scattermapbox": [
           {
            "marker": {
             "colorbar": {
              "outlinewidth": 0,
              "ticks": ""
             }
            },
            "type": "scattermapbox"
           }
          ],
          "scatterpolar": [
           {
            "marker": {
             "colorbar": {
              "outlinewidth": 0,
              "ticks": ""
             }
            },
            "type": "scatterpolar"
           }
          ],
          "scatterpolargl": [
           {
            "marker": {
             "colorbar": {
              "outlinewidth": 0,
              "ticks": ""
             }
            },
            "type": "scatterpolargl"
           }
          ],
          "scatterternary": [
           {
            "marker": {
             "colorbar": {
              "outlinewidth": 0,
              "ticks": ""
             }
            },
            "type": "scatterternary"
           }
          ],
          "surface": [
           {
            "colorbar": {
             "outlinewidth": 0,
             "ticks": ""
            },
            "colorscale": [
             [
              0,
              "#0d0887"
             ],
             [
              0.1111111111111111,
              "#46039f"
             ],
             [
              0.2222222222222222,
              "#7201a8"
             ],
             [
              0.3333333333333333,
              "#9c179e"
             ],
             [
              0.4444444444444444,
              "#bd3786"
             ],
             [
              0.5555555555555556,
              "#d8576b"
             ],
             [
              0.6666666666666666,
              "#ed7953"
             ],
             [
              0.7777777777777778,
              "#fb9f3a"
             ],
             [
              0.8888888888888888,
              "#fdca26"
             ],
             [
              1,
              "#f0f921"
             ]
            ],
            "type": "surface"
           }
          ],
          "table": [
           {
            "cells": {
             "fill": {
              "color": "#EBF0F8"
             },
             "line": {
              "color": "white"
             }
            },
            "header": {
             "fill": {
              "color": "#C8D4E3"
             },
             "line": {
              "color": "white"
             }
            },
            "type": "table"
           }
          ]
         },
         "layout": {
          "annotationdefaults": {
           "arrowcolor": "#2a3f5f",
           "arrowhead": 0,
           "arrowwidth": 1
          },
          "autotypenumbers": "strict",
          "coloraxis": {
           "colorbar": {
            "outlinewidth": 0,
            "ticks": ""
           }
          },
          "colorscale": {
           "diverging": [
            [
             0,
             "#8e0152"
            ],
            [
             0.1,
             "#c51b7d"
            ],
            [
             0.2,
             "#de77ae"
            ],
            [
             0.3,
             "#f1b6da"
            ],
            [
             0.4,
             "#fde0ef"
            ],
            [
             0.5,
             "#f7f7f7"
            ],
            [
             0.6,
             "#e6f5d0"
            ],
            [
             0.7,
             "#b8e186"
            ],
            [
             0.8,
             "#7fbc41"
            ],
            [
             0.9,
             "#4d9221"
            ],
            [
             1,
             "#276419"
            ]
           ],
           "sequential": [
            [
             0,
             "#0d0887"
            ],
            [
             0.1111111111111111,
             "#46039f"
            ],
            [
             0.2222222222222222,
             "#7201a8"
            ],
            [
             0.3333333333333333,
             "#9c179e"
            ],
            [
             0.4444444444444444,
             "#bd3786"
            ],
            [
             0.5555555555555556,
             "#d8576b"
            ],
            [
             0.6666666666666666,
             "#ed7953"
            ],
            [
             0.7777777777777778,
             "#fb9f3a"
            ],
            [
             0.8888888888888888,
             "#fdca26"
            ],
            [
             1,
             "#f0f921"
            ]
           ],
           "sequentialminus": [
            [
             0,
             "#0d0887"
            ],
            [
             0.1111111111111111,
             "#46039f"
            ],
            [
             0.2222222222222222,
             "#7201a8"
            ],
            [
             0.3333333333333333,
             "#9c179e"
            ],
            [
             0.4444444444444444,
             "#bd3786"
            ],
            [
             0.5555555555555556,
             "#d8576b"
            ],
            [
             0.6666666666666666,
             "#ed7953"
            ],
            [
             0.7777777777777778,
             "#fb9f3a"
            ],
            [
             0.8888888888888888,
             "#fdca26"
            ],
            [
             1,
             "#f0f921"
            ]
           ]
          },
          "colorway": [
           "#636efa",
           "#EF553B",
           "#00cc96",
           "#ab63fa",
           "#FFA15A",
           "#19d3f3",
           "#FF6692",
           "#B6E880",
           "#FF97FF",
           "#FECB52"
          ],
          "font": {
           "color": "#2a3f5f"
          },
          "geo": {
           "bgcolor": "white",
           "lakecolor": "white",
           "landcolor": "#E5ECF6",
           "showlakes": true,
           "showland": true,
           "subunitcolor": "white"
          },
          "hoverlabel": {
           "align": "left"
          },
          "hovermode": "closest",
          "mapbox": {
           "style": "light"
          },
          "paper_bgcolor": "white",
          "plot_bgcolor": "#E5ECF6",
          "polar": {
           "angularaxis": {
            "gridcolor": "white",
            "linecolor": "white",
            "ticks": ""
           },
           "bgcolor": "#E5ECF6",
           "radialaxis": {
            "gridcolor": "white",
            "linecolor": "white",
            "ticks": ""
           }
          },
          "scene": {
           "xaxis": {
            "backgroundcolor": "#E5ECF6",
            "gridcolor": "white",
            "gridwidth": 2,
            "linecolor": "white",
            "showbackground": true,
            "ticks": "",
            "zerolinecolor": "white"
           },
           "yaxis": {
            "backgroundcolor": "#E5ECF6",
            "gridcolor": "white",
            "gridwidth": 2,
            "linecolor": "white",
            "showbackground": true,
            "ticks": "",
            "zerolinecolor": "white"
           },
           "zaxis": {
            "backgroundcolor": "#E5ECF6",
            "gridcolor": "white",
            "gridwidth": 2,
            "linecolor": "white",
            "showbackground": true,
            "ticks": "",
            "zerolinecolor": "white"
           }
          },
          "shapedefaults": {
           "line": {
            "color": "#2a3f5f"
           }
          },
          "ternary": {
           "aaxis": {
            "gridcolor": "white",
            "linecolor": "white",
            "ticks": ""
           },
           "baxis": {
            "gridcolor": "white",
            "linecolor": "white",
            "ticks": ""
           },
           "bgcolor": "#E5ECF6",
           "caxis": {
            "gridcolor": "white",
            "linecolor": "white",
            "ticks": ""
           }
          },
          "title": {
           "x": 0.05
          },
          "xaxis": {
           "automargin": true,
           "gridcolor": "white",
           "linecolor": "white",
           "ticks": "",
           "title": {
            "standoff": 15
           },
           "zerolinecolor": "white",
           "zerolinewidth": 2
          },
          "yaxis": {
           "automargin": true,
           "gridcolor": "white",
           "linecolor": "white",
           "ticks": "",
           "title": {
            "standoff": 15
           },
           "zerolinecolor": "white",
           "zerolinewidth": 2
          }
         }
        },
        "title": {
         "text": "Training Accuracy"
        },
        "width": 1000,
        "xaxis": {
         "title": {
          "text": "Epoch"
         }
        },
        "yaxis": {
         "tickformat": ".3%",
         "title": {
          "text": "Accuracy"
         }
        }
       }
      }
     },
     "metadata": {},
     "output_type": "display_data"
    }
   ],
   "source": [
    "plot_accuracy(val_accuracy_df, 'Training Accuracy')"
   ]
  },
  {
   "cell_type": "markdown",
   "metadata": {},
   "source": [
    "# Experiment 2"
   ]
  },
  {
   "cell_type": "markdown",
   "metadata": {},
   "source": [
    "Get training accuracy of models in each epoch"
   ]
  },
  {
   "cell_type": "markdown",
   "metadata": {},
   "source": [
    "## Training Accuracy"
   ]
  },
  {
   "cell_type": "code",
   "execution_count": 14,
   "metadata": {},
   "outputs": [],
   "source": [
    "accuracy_df, _ = accuracy_data(df_exp2)"
   ]
  },
  {
   "cell_type": "markdown",
   "metadata": {},
   "source": [
    "From the below table, all models of `DenseNet` performs poorly as compared to other models. `EfficientNet` models give best result in this experiments and none of the training accuracy is 100% it means there is no significant overfitting of data and our model is more generalized. This is introduced by input data augmentation and `Dropout` layer to minimize overfitting. `EfficientNetV2L` performs the best for training."
   ]
  },
  {
   "cell_type": "code",
   "execution_count": 15,
   "metadata": {},
   "outputs": [
    {
     "name": "stdout",
     "output_type": "stream",
     "text": [
      "Training Accuracy\n"
     ]
    },
    {
     "data": {
      "text/html": [
       "<style type=\"text/css\">\n",
       "#T_cfdc3_row5_col5 {\n",
       "  background-color: red;\n",
       "  background-color: green;\n",
       "}\n",
       "#T_cfdc3_row6_col2, #T_cfdc3_row6_col8, #T_cfdc3_row6_col9, #T_cfdc3_row6_col10, #T_cfdc3_row7_col1, #T_cfdc3_row7_col4, #T_cfdc3_row7_col6, #T_cfdc3_row8_col7, #T_cfdc3_row9_col0, #T_cfdc3_row9_col3 {\n",
       "  background-color: red;\n",
       "}\n",
       "#T_cfdc3_row9_col5 {\n",
       "  background-color: navy;\n",
       "}\n",
       "</style>\n",
       "<table id=\"T_cfdc3\">\n",
       "  <thead>\n",
       "    <tr>\n",
       "      <th class=\"blank level0\" >&nbsp;</th>\n",
       "      <th id=\"T_cfdc3_level0_col0\" class=\"col_heading level0 col0\" >DenseNet121_accuracy</th>\n",
       "      <th id=\"T_cfdc3_level0_col1\" class=\"col_heading level0 col1\" >DenseNet169_accuracy</th>\n",
       "      <th id=\"T_cfdc3_level0_col2\" class=\"col_heading level0 col2\" >DenseNet201_accuracy</th>\n",
       "      <th id=\"T_cfdc3_level0_col3\" class=\"col_heading level0 col3\" >EfficientNetB0_accuracy</th>\n",
       "      <th id=\"T_cfdc3_level0_col4\" class=\"col_heading level0 col4\" >EfficientNetV2B0_accuracy</th>\n",
       "      <th id=\"T_cfdc3_level0_col5\" class=\"col_heading level0 col5\" >EfficientNetV2L_accuracy</th>\n",
       "      <th id=\"T_cfdc3_level0_col6\" class=\"col_heading level0 col6\" >ResNet101_accuracy</th>\n",
       "      <th id=\"T_cfdc3_level0_col7\" class=\"col_heading level0 col7\" >ResNet152_accuracy</th>\n",
       "      <th id=\"T_cfdc3_level0_col8\" class=\"col_heading level0 col8\" >ResNet50_accuracy</th>\n",
       "      <th id=\"T_cfdc3_level0_col9\" class=\"col_heading level0 col9\" >VGG16_accuracy</th>\n",
       "      <th id=\"T_cfdc3_level0_col10\" class=\"col_heading level0 col10\" >VGG19_accuracy</th>\n",
       "    </tr>\n",
       "  </thead>\n",
       "  <tbody>\n",
       "    <tr>\n",
       "      <th id=\"T_cfdc3_level0_row0\" class=\"row_heading level0 row0\" >0</th>\n",
       "      <td id=\"T_cfdc3_row0_col0\" class=\"data row0 col0\" >26.719%</td>\n",
       "      <td id=\"T_cfdc3_row0_col1\" class=\"data row0 col1\" >28.028%</td>\n",
       "      <td id=\"T_cfdc3_row0_col2\" class=\"data row0 col2\" >33.372%</td>\n",
       "      <td id=\"T_cfdc3_row0_col3\" class=\"data row0 col3\" >79.322%</td>\n",
       "      <td id=\"T_cfdc3_row0_col4\" class=\"data row0 col4\" >85.849%</td>\n",
       "      <td id=\"T_cfdc3_row0_col5\" class=\"data row0 col5\" >92.048%</td>\n",
       "      <td id=\"T_cfdc3_row0_col6\" class=\"data row0 col6\" >72.542%</td>\n",
       "      <td id=\"T_cfdc3_row0_col7\" class=\"data row0 col7\" >73.007%</td>\n",
       "      <td id=\"T_cfdc3_row0_col8\" class=\"data row0 col8\" >72.098%</td>\n",
       "      <td id=\"T_cfdc3_row0_col9\" class=\"data row0 col9\" >47.861%</td>\n",
       "      <td id=\"T_cfdc3_row0_col10\" class=\"data row0 col10\" >46.837%</td>\n",
       "    </tr>\n",
       "    <tr>\n",
       "      <th id=\"T_cfdc3_level0_row1\" class=\"row_heading level0 row1\" >1</th>\n",
       "      <td id=\"T_cfdc3_row1_col0\" class=\"data row1 col0\" >39.962%</td>\n",
       "      <td id=\"T_cfdc3_row1_col1\" class=\"data row1 col1\" >41.282%</td>\n",
       "      <td id=\"T_cfdc3_row1_col2\" class=\"data row1 col2\" >46.140%</td>\n",
       "      <td id=\"T_cfdc3_row1_col3\" class=\"data row1 col3\" >88.478%</td>\n",
       "      <td id=\"T_cfdc3_row1_col4\" class=\"data row1 col4\" >93.040%</td>\n",
       "      <td id=\"T_cfdc3_row1_col5\" class=\"data row1 col5\" >96.261%</td>\n",
       "      <td id=\"T_cfdc3_row1_col6\" class=\"data row1 col6\" >84.581%</td>\n",
       "      <td id=\"T_cfdc3_row1_col7\" class=\"data row1 col7\" >83.969%</td>\n",
       "      <td id=\"T_cfdc3_row1_col8\" class=\"data row1 col8\" >83.177%</td>\n",
       "      <td id=\"T_cfdc3_row1_col9\" class=\"data row1 col9\" >69.004%</td>\n",
       "      <td id=\"T_cfdc3_row1_col10\" class=\"data row1 col10\" >69.089%</td>\n",
       "    </tr>\n",
       "    <tr>\n",
       "      <th id=\"T_cfdc3_level0_row2\" class=\"row_heading level0 row2\" >2</th>\n",
       "      <td id=\"T_cfdc3_row2_col0\" class=\"data row2 col0\" >43.120%</td>\n",
       "      <td id=\"T_cfdc3_row2_col1\" class=\"data row2 col1\" >44.281%</td>\n",
       "      <td id=\"T_cfdc3_row2_col2\" class=\"data row2 col2\" >49.519%</td>\n",
       "      <td id=\"T_cfdc3_row2_col3\" class=\"data row2 col3\" >89.260%</td>\n",
       "      <td id=\"T_cfdc3_row2_col4\" class=\"data row2 col4\" >93.135%</td>\n",
       "      <td id=\"T_cfdc3_row2_col5\" class=\"data row2 col5\" >96.452%</td>\n",
       "      <td id=\"T_cfdc3_row2_col6\" class=\"data row2 col6\" >85.616%</td>\n",
       "      <td id=\"T_cfdc3_row2_col7\" class=\"data row2 col7\" >86.461%</td>\n",
       "      <td id=\"T_cfdc3_row2_col8\" class=\"data row2 col8\" >85.152%</td>\n",
       "      <td id=\"T_cfdc3_row2_col9\" class=\"data row2 col9\" >73.883%</td>\n",
       "      <td id=\"T_cfdc3_row2_col10\" class=\"data row2 col10\" >72.521%</td>\n",
       "    </tr>\n",
       "    <tr>\n",
       "      <th id=\"T_cfdc3_level0_row3\" class=\"row_heading level0 row3\" >3</th>\n",
       "      <td id=\"T_cfdc3_row3_col0\" class=\"data row3 col0\" >46.721%</td>\n",
       "      <td id=\"T_cfdc3_row3_col1\" class=\"data row3 col1\" >45.644%</td>\n",
       "      <td id=\"T_cfdc3_row3_col2\" class=\"data row3 col2\" >50.343%</td>\n",
       "      <td id=\"T_cfdc3_row3_col3\" class=\"data row3 col3\" >90.200%</td>\n",
       "      <td id=\"T_cfdc3_row3_col4\" class=\"data row3 col4\" >93.769%</td>\n",
       "      <td id=\"T_cfdc3_row3_col5\" class=\"data row3 col5\" >96.937%</td>\n",
       "      <td id=\"T_cfdc3_row3_col6\" class=\"data row3 col6\" >86.461%</td>\n",
       "      <td id=\"T_cfdc3_row3_col7\" class=\"data row3 col7\" >86.535%</td>\n",
       "      <td id=\"T_cfdc3_row3_col8\" class=\"data row3 col8\" >85.416%</td>\n",
       "      <td id=\"T_cfdc3_row3_col9\" class=\"data row3 col9\" >75.393%</td>\n",
       "      <td id=\"T_cfdc3_row3_col10\" class=\"data row3 col10\" >75.531%</td>\n",
       "    </tr>\n",
       "    <tr>\n",
       "      <th id=\"T_cfdc3_level0_row4\" class=\"row_heading level0 row4\" >4</th>\n",
       "      <td id=\"T_cfdc3_row4_col0\" class=\"data row4 col0\" >45.591%</td>\n",
       "      <td id=\"T_cfdc3_row4_col1\" class=\"data row4 col1\" >46.013%</td>\n",
       "      <td id=\"T_cfdc3_row4_col2\" class=\"data row4 col2\" >51.167%</td>\n",
       "      <td id=\"T_cfdc3_row4_col3\" class=\"data row4 col3\" >90.738%</td>\n",
       "      <td id=\"T_cfdc3_row4_col4\" class=\"data row4 col4\" >94.118%</td>\n",
       "      <td id=\"T_cfdc3_row4_col5\" class=\"data row4 col5\" >96.663%</td>\n",
       "      <td id=\"T_cfdc3_row4_col6\" class=\"data row4 col6\" >86.662%</td>\n",
       "      <td id=\"T_cfdc3_row4_col7\" class=\"data row4 col7\" >87.074%</td>\n",
       "      <td id=\"T_cfdc3_row4_col8\" class=\"data row4 col8\" >86.419%</td>\n",
       "      <td id=\"T_cfdc3_row4_col9\" class=\"data row4 col9\" >76.692%</td>\n",
       "      <td id=\"T_cfdc3_row4_col10\" class=\"data row4 col10\" >76.185%</td>\n",
       "    </tr>\n",
       "    <tr>\n",
       "      <th id=\"T_cfdc3_level0_row5\" class=\"row_heading level0 row5\" >5</th>\n",
       "      <td id=\"T_cfdc3_row5_col0\" class=\"data row5 col0\" >46.679%</td>\n",
       "      <td id=\"T_cfdc3_row5_col1\" class=\"data row5 col1\" >46.848%</td>\n",
       "      <td id=\"T_cfdc3_row5_col2\" class=\"data row5 col2\" >51.558%</td>\n",
       "      <td id=\"T_cfdc3_row5_col3\" class=\"data row5 col3\" >90.949%</td>\n",
       "      <td id=\"T_cfdc3_row5_col4\" class=\"data row5 col4\" >94.255%</td>\n",
       "      <td id=\"T_cfdc3_row5_col5\" class=\"data row5 col5\" >97.402%</td>\n",
       "      <td id=\"T_cfdc3_row5_col6\" class=\"data row5 col6\" >87.158%</td>\n",
       "      <td id=\"T_cfdc3_row5_col7\" class=\"data row5 col7\" >87.908%</td>\n",
       "      <td id=\"T_cfdc3_row5_col8\" class=\"data row5 col8\" >86.387%</td>\n",
       "      <td id=\"T_cfdc3_row5_col9\" class=\"data row5 col9\" >76.618%</td>\n",
       "      <td id=\"T_cfdc3_row5_col10\" class=\"data row5 col10\" >75.879%</td>\n",
       "    </tr>\n",
       "    <tr>\n",
       "      <th id=\"T_cfdc3_level0_row6\" class=\"row_heading level0 row6\" >6</th>\n",
       "      <td id=\"T_cfdc3_row6_col0\" class=\"data row6 col0\" >47.323%</td>\n",
       "      <td id=\"T_cfdc3_row6_col1\" class=\"data row6 col1\" >46.922%</td>\n",
       "      <td id=\"T_cfdc3_row6_col2\" class=\"data row6 col2\" >52.170%</td>\n",
       "      <td id=\"T_cfdc3_row6_col3\" class=\"data row6 col3\" >90.548%</td>\n",
       "      <td id=\"T_cfdc3_row6_col4\" class=\"data row6 col4\" >94.350%</td>\n",
       "      <td id=\"T_cfdc3_row6_col5\" class=\"data row6 col5\" >97.117%</td>\n",
       "      <td id=\"T_cfdc3_row6_col6\" class=\"data row6 col6\" >87.538%</td>\n",
       "      <td id=\"T_cfdc3_row6_col7\" class=\"data row6 col7\" >87.982%</td>\n",
       "      <td id=\"T_cfdc3_row6_col8\" class=\"data row6 col8\" >87.095%</td>\n",
       "      <td id=\"T_cfdc3_row6_col9\" class=\"data row6 col9\" >78.023%</td>\n",
       "      <td id=\"T_cfdc3_row6_col10\" class=\"data row6 col10\" >76.978%</td>\n",
       "    </tr>\n",
       "    <tr>\n",
       "      <th id=\"T_cfdc3_level0_row7\" class=\"row_heading level0 row7\" >7</th>\n",
       "      <td id=\"T_cfdc3_row7_col0\" class=\"data row7 col0\" >47.080%</td>\n",
       "      <td id=\"T_cfdc3_row7_col1\" class=\"data row7 col1\" >46.953%</td>\n",
       "      <td id=\"T_cfdc3_row7_col2\" class=\"data row7 col2\" >52.012%</td>\n",
       "      <td id=\"T_cfdc3_row7_col3\" class=\"data row7 col3\" >90.918%</td>\n",
       "      <td id=\"T_cfdc3_row7_col4\" class=\"data row7 col4\" >94.751%</td>\n",
       "      <td id=\"T_cfdc3_row7_col5\" class=\"data row7 col5\" >96.980%</td>\n",
       "      <td id=\"T_cfdc3_row7_col6\" class=\"data row7 col6\" >87.644%</td>\n",
       "      <td id=\"T_cfdc3_row7_col7\" class=\"data row7 col7\" >88.098%</td>\n",
       "      <td id=\"T_cfdc3_row7_col8\" class=\"data row7 col8\" >87.031%</td>\n",
       "      <td id=\"T_cfdc3_row7_col9\" class=\"data row7 col9\" >77.506%</td>\n",
       "      <td id=\"T_cfdc3_row7_col10\" class=\"data row7 col10\" >76.840%</td>\n",
       "    </tr>\n",
       "    <tr>\n",
       "      <th id=\"T_cfdc3_level0_row8\" class=\"row_heading level0 row8\" >8</th>\n",
       "      <td id=\"T_cfdc3_row8_col0\" class=\"data row8 col0\" >47.471%</td>\n",
       "      <td id=\"T_cfdc3_row8_col1\" class=\"data row8 col1\" >46.658%</td>\n",
       "      <td id=\"T_cfdc3_row8_col2\" class=\"data row8 col2\" >51.463%</td>\n",
       "      <td id=\"T_cfdc3_row8_col3\" class=\"data row8 col3\" >90.886%</td>\n",
       "      <td id=\"T_cfdc3_row8_col4\" class=\"data row8 col4\" >94.403%</td>\n",
       "      <td id=\"T_cfdc3_row8_col5\" class=\"data row8 col5\" >97.159%</td>\n",
       "      <td id=\"T_cfdc3_row8_col6\" class=\"data row8 col6\" >87.295%</td>\n",
       "      <td id=\"T_cfdc3_row8_col7\" class=\"data row8 col7\" >88.341%</td>\n",
       "      <td id=\"T_cfdc3_row8_col8\" class=\"data row8 col8\" >87.074%</td>\n",
       "      <td id=\"T_cfdc3_row8_col9\" class=\"data row8 col9\" >77.231%</td>\n",
       "      <td id=\"T_cfdc3_row8_col10\" class=\"data row8 col10\" >76.566%</td>\n",
       "    </tr>\n",
       "    <tr>\n",
       "      <th id=\"T_cfdc3_level0_row9\" class=\"row_heading level0 row9\" >9</th>\n",
       "      <td id=\"T_cfdc3_row9_col0\" class=\"data row9 col0\" >47.629%</td>\n",
       "      <td id=\"T_cfdc3_row9_col1\" class=\"data row9 col1\" >46.267%</td>\n",
       "      <td id=\"T_cfdc3_row9_col2\" class=\"data row9 col2\" >51.959%</td>\n",
       "      <td id=\"T_cfdc3_row9_col3\" class=\"data row9 col3\" >91.256%</td>\n",
       "      <td id=\"T_cfdc3_row9_col4\" class=\"data row9 col4\" >94.477%</td>\n",
       "      <td id=\"T_cfdc3_row9_col5\" class=\"data row9 col5\" >97.096%</td>\n",
       "      <td id=\"T_cfdc3_row9_col6\" class=\"data row9 col6\" >87.475%</td>\n",
       "      <td id=\"T_cfdc3_row9_col7\" class=\"data row9 col7\" >88.077%</td>\n",
       "      <td id=\"T_cfdc3_row9_col8\" class=\"data row9 col8\" >86.915%</td>\n",
       "      <td id=\"T_cfdc3_row9_col9\" class=\"data row9 col9\" >77.484%</td>\n",
       "      <td id=\"T_cfdc3_row9_col10\" class=\"data row9 col10\" >76.904%</td>\n",
       "    </tr>\n",
       "  </tbody>\n",
       "</table>\n"
      ],
      "text/plain": [
       "<pandas.io.formats.style.Styler at 0x24aa45be010>"
      ]
     },
     "execution_count": 15,
     "metadata": {},
     "output_type": "execute_result"
    }
   ],
   "source": [
    "# Color Legend:\n",
    "# - Red: maximum value in the column regardless of the epoch\n",
    "# - Green: maximum value in whole dataframe\n",
    "# - Navy: maximum value in the last row i.e. the last epoch\n",
    "\n",
    "print(\"Training Accuracy\")\n",
    "\n",
    "format_df(accuracy_df)"
   ]
  },
  {
   "cell_type": "code",
   "execution_count": 16,
   "metadata": {},
   "outputs": [
    {
     "data": {
      "application/vnd.plotly.v1+json": {
       "config": {
        "plotlyServerURL": "https://plot.ly"
       },
       "data": [
        {
         "mode": "lines+markers",
         "name": "DenseNet121_accuracy",
         "type": "scatter",
         "x": [
          0,
          1,
          2,
          3,
          4,
          5,
          6,
          7,
          8,
          9
         ],
         "y": [
          0.2671876549720764,
          0.39961981773376465,
          0.43119654059410095,
          0.46720877289772034,
          0.45590874552726746,
          0.46678635478019714,
          0.47322842478752136,
          0.47079944610595703,
          0.4747069478034973,
          0.47629106044769287
         ]
        },
        {
         "mode": "lines+markers",
         "name": "DenseNet169_accuracy",
         "type": "scatter",
         "x": [
          0,
          1,
          2,
          3,
          4,
          5,
          6,
          7,
          8,
          9
         ],
         "y": [
          0.28028303384780884,
          0.4128207862377167,
          0.4428133964538574,
          0.45643678307533264,
          0.46013307571411133,
          0.4684760868549347,
          0.4692153334617615,
          0.46953216195106506,
          0.46657514572143555,
          0.46266764402389526
         ]
        },
        {
         "mode": "lines+markers",
         "name": "DenseNet201_accuracy",
         "type": "scatter",
         "x": [
          0,
          1,
          2,
          3,
          4,
          5,
          6,
          7,
          8,
          9
         ],
         "y": [
          0.3337205648422241,
          0.4614003598690033,
          0.49519485235214233,
          0.5034322738647461,
          0.5116696357727051,
          0.5155771374702454,
          0.5217024087905884,
          0.5201182961463928,
          0.514626681804657,
          0.5195902585983276
         ]
        },
        {
         "mode": "lines+markers",
         "name": "EfficientNetB0_accuracy",
         "type": "scatter",
         "x": [
          0,
          1,
          2,
          3,
          4,
          5,
          6,
          7,
          8,
          9
         ],
         "y": [
          0.7932199835777283,
          0.8847818970680237,
          0.8925969004631042,
          0.9019960165023804,
          0.9073820114135742,
          0.909494161605835,
          0.9054810404777527,
          0.909177303314209,
          0.9088605046272278,
          0.9125567674636841
         ]
        },
        {
         "mode": "lines+markers",
         "name": "EfficientNetV2B0_accuracy",
         "type": "scatter",
         "x": [
          0,
          1,
          2,
          3,
          4,
          5,
          6,
          7,
          8,
          9
         ],
         "y": [
          0.8584855794906616,
          0.9304044842720032,
          0.9313549399375916,
          0.9376913905143738,
          0.9411764740943909,
          0.9425493478775024,
          0.9434998631477356,
          0.9475129246711731,
          0.9440279006958008,
          0.9447671175003052
         ]
        },
        {
         "mode": "lines+markers",
         "name": "EfficientNetV2L_accuracy",
         "type": "scatter",
         "x": [
          0,
          1,
          2,
          3,
          4,
          5,
          6,
          7,
          8,
          9
         ],
         "y": [
          0.9204773306846619,
          0.9626148343086243,
          0.9645158052444458,
          0.9693737626075745,
          0.9666279554367065,
          0.9740204811096191,
          0.9711690545082092,
          0.9697961807250977,
          0.9715915322303772,
          0.97095787525177
         ]
        },
        {
         "mode": "lines+markers",
         "name": "ResNet101_accuracy",
         "type": "scatter",
         "x": [
          0,
          1,
          2,
          3,
          4,
          5,
          6,
          7,
          8,
          9
         ],
         "y": [
          0.725419819355011,
          0.8458126783370972,
          0.8561621904373169,
          0.8646108508110046,
          0.8666173815727234,
          0.871580958366394,
          0.8753828406333923,
          0.8764389157295227,
          0.8729538321495056,
          0.8747491836547852
         ]
        },
        {
         "mode": "lines+markers",
         "name": "ResNet152_accuracy",
         "type": "scatter",
         "x": [
          0,
          1,
          2,
          3,
          4,
          5,
          6,
          7,
          8,
          9
         ],
         "y": [
          0.7300665378570557,
          0.8396874070167542,
          0.8646108508110046,
          0.865350067615509,
          0.8707360625267029,
          0.8790791034698486,
          0.8798183798789978,
          0.8809800148010254,
          0.8834090232849121,
          0.8807688355445862
         ]
        },
        {
         "mode": "lines+markers",
         "name": "ResNet50_accuracy",
         "type": "scatter",
         "x": [
          0,
          1,
          2,
          3,
          4,
          5,
          6,
          7,
          8,
          9
         ],
         "y": [
          0.7209842801094055,
          0.8317668437957764,
          0.8515154719352722,
          0.8541556596755981,
          0.8641884326934814,
          0.8638715744018555,
          0.8709473013877869,
          0.8703136444091797,
          0.8707360625267029,
          0.8691519498825073
         ]
        },
        {
         "mode": "lines+markers",
         "name": "VGG16_accuracy",
         "type": "scatter",
         "x": [
          0,
          1,
          2,
          3,
          4,
          5,
          6,
          7,
          8,
          9
         ],
         "y": [
          0.4786144196987152,
          0.690041184425354,
          0.7388319969177246,
          0.7539339065551758,
          0.7669236660003662,
          0.766184389591217,
          0.7802302241325378,
          0.775055468082428,
          0.7723096609115601,
          0.774844229221344
         ]
        },
        {
         "mode": "lines+markers",
         "name": "VGG19_accuracy",
         "type": "scatter",
         "x": [
          0,
          1,
          2,
          3,
          4,
          5,
          6,
          7,
          8,
          9
         ],
         "y": [
          0.4683704674243927,
          0.6908860206604004,
          0.725208580493927,
          0.7553067803382874,
          0.7618544697761536,
          0.7587918639183044,
          0.7697750329971313,
          0.7684021592140198,
          0.7656563520431519,
          0.769035816192627
         ]
        }
       ],
       "layout": {
        "height": 500,
        "template": {
         "data": {
          "bar": [
           {
            "error_x": {
             "color": "#2a3f5f"
            },
            "error_y": {
             "color": "#2a3f5f"
            },
            "marker": {
             "line": {
              "color": "#E5ECF6",
              "width": 0.5
             },
             "pattern": {
              "fillmode": "overlay",
              "size": 10,
              "solidity": 0.2
             }
            },
            "type": "bar"
           }
          ],
          "barpolar": [
           {
            "marker": {
             "line": {
              "color": "#E5ECF6",
              "width": 0.5
             },
             "pattern": {
              "fillmode": "overlay",
              "size": 10,
              "solidity": 0.2
             }
            },
            "type": "barpolar"
           }
          ],
          "carpet": [
           {
            "aaxis": {
             "endlinecolor": "#2a3f5f",
             "gridcolor": "white",
             "linecolor": "white",
             "minorgridcolor": "white",
             "startlinecolor": "#2a3f5f"
            },
            "baxis": {
             "endlinecolor": "#2a3f5f",
             "gridcolor": "white",
             "linecolor": "white",
             "minorgridcolor": "white",
             "startlinecolor": "#2a3f5f"
            },
            "type": "carpet"
           }
          ],
          "choropleth": [
           {
            "colorbar": {
             "outlinewidth": 0,
             "ticks": ""
            },
            "type": "choropleth"
           }
          ],
          "contour": [
           {
            "colorbar": {
             "outlinewidth": 0,
             "ticks": ""
            },
            "colorscale": [
             [
              0,
              "#0d0887"
             ],
             [
              0.1111111111111111,
              "#46039f"
             ],
             [
              0.2222222222222222,
              "#7201a8"
             ],
             [
              0.3333333333333333,
              "#9c179e"
             ],
             [
              0.4444444444444444,
              "#bd3786"
             ],
             [
              0.5555555555555556,
              "#d8576b"
             ],
             [
              0.6666666666666666,
              "#ed7953"
             ],
             [
              0.7777777777777778,
              "#fb9f3a"
             ],
             [
              0.8888888888888888,
              "#fdca26"
             ],
             [
              1,
              "#f0f921"
             ]
            ],
            "type": "contour"
           }
          ],
          "contourcarpet": [
           {
            "colorbar": {
             "outlinewidth": 0,
             "ticks": ""
            },
            "type": "contourcarpet"
           }
          ],
          "heatmap": [
           {
            "colorbar": {
             "outlinewidth": 0,
             "ticks": ""
            },
            "colorscale": [
             [
              0,
              "#0d0887"
             ],
             [
              0.1111111111111111,
              "#46039f"
             ],
             [
              0.2222222222222222,
              "#7201a8"
             ],
             [
              0.3333333333333333,
              "#9c179e"
             ],
             [
              0.4444444444444444,
              "#bd3786"
             ],
             [
              0.5555555555555556,
              "#d8576b"
             ],
             [
              0.6666666666666666,
              "#ed7953"
             ],
             [
              0.7777777777777778,
              "#fb9f3a"
             ],
             [
              0.8888888888888888,
              "#fdca26"
             ],
             [
              1,
              "#f0f921"
             ]
            ],
            "type": "heatmap"
           }
          ],
          "heatmapgl": [
           {
            "colorbar": {
             "outlinewidth": 0,
             "ticks": ""
            },
            "colorscale": [
             [
              0,
              "#0d0887"
             ],
             [
              0.1111111111111111,
              "#46039f"
             ],
             [
              0.2222222222222222,
              "#7201a8"
             ],
             [
              0.3333333333333333,
              "#9c179e"
             ],
             [
              0.4444444444444444,
              "#bd3786"
             ],
             [
              0.5555555555555556,
              "#d8576b"
             ],
             [
              0.6666666666666666,
              "#ed7953"
             ],
             [
              0.7777777777777778,
              "#fb9f3a"
             ],
             [
              0.8888888888888888,
              "#fdca26"
             ],
             [
              1,
              "#f0f921"
             ]
            ],
            "type": "heatmapgl"
           }
          ],
          "histogram": [
           {
            "marker": {
             "pattern": {
              "fillmode": "overlay",
              "size": 10,
              "solidity": 0.2
             }
            },
            "type": "histogram"
           }
          ],
          "histogram2d": [
           {
            "colorbar": {
             "outlinewidth": 0,
             "ticks": ""
            },
            "colorscale": [
             [
              0,
              "#0d0887"
             ],
             [
              0.1111111111111111,
              "#46039f"
             ],
             [
              0.2222222222222222,
              "#7201a8"
             ],
             [
              0.3333333333333333,
              "#9c179e"
             ],
             [
              0.4444444444444444,
              "#bd3786"
             ],
             [
              0.5555555555555556,
              "#d8576b"
             ],
             [
              0.6666666666666666,
              "#ed7953"
             ],
             [
              0.7777777777777778,
              "#fb9f3a"
             ],
             [
              0.8888888888888888,
              "#fdca26"
             ],
             [
              1,
              "#f0f921"
             ]
            ],
            "type": "histogram2d"
           }
          ],
          "histogram2dcontour": [
           {
            "colorbar": {
             "outlinewidth": 0,
             "ticks": ""
            },
            "colorscale": [
             [
              0,
              "#0d0887"
             ],
             [
              0.1111111111111111,
              "#46039f"
             ],
             [
              0.2222222222222222,
              "#7201a8"
             ],
             [
              0.3333333333333333,
              "#9c179e"
             ],
             [
              0.4444444444444444,
              "#bd3786"
             ],
             [
              0.5555555555555556,
              "#d8576b"
             ],
             [
              0.6666666666666666,
              "#ed7953"
             ],
             [
              0.7777777777777778,
              "#fb9f3a"
             ],
             [
              0.8888888888888888,
              "#fdca26"
             ],
             [
              1,
              "#f0f921"
             ]
            ],
            "type": "histogram2dcontour"
           }
          ],
          "mesh3d": [
           {
            "colorbar": {
             "outlinewidth": 0,
             "ticks": ""
            },
            "type": "mesh3d"
           }
          ],
          "parcoords": [
           {
            "line": {
             "colorbar": {
              "outlinewidth": 0,
              "ticks": ""
             }
            },
            "type": "parcoords"
           }
          ],
          "pie": [
           {
            "automargin": true,
            "type": "pie"
           }
          ],
          "scatter": [
           {
            "fillpattern": {
             "fillmode": "overlay",
             "size": 10,
             "solidity": 0.2
            },
            "type": "scatter"
           }
          ],
          "scatter3d": [
           {
            "line": {
             "colorbar": {
              "outlinewidth": 0,
              "ticks": ""
             }
            },
            "marker": {
             "colorbar": {
              "outlinewidth": 0,
              "ticks": ""
             }
            },
            "type": "scatter3d"
           }
          ],
          "scattercarpet": [
           {
            "marker": {
             "colorbar": {
              "outlinewidth": 0,
              "ticks": ""
             }
            },
            "type": "scattercarpet"
           }
          ],
          "scattergeo": [
           {
            "marker": {
             "colorbar": {
              "outlinewidth": 0,
              "ticks": ""
             }
            },
            "type": "scattergeo"
           }
          ],
          "scattergl": [
           {
            "marker": {
             "colorbar": {
              "outlinewidth": 0,
              "ticks": ""
             }
            },
            "type": "scattergl"
           }
          ],
          "scattermapbox": [
           {
            "marker": {
             "colorbar": {
              "outlinewidth": 0,
              "ticks": ""
             }
            },
            "type": "scattermapbox"
           }
          ],
          "scatterpolar": [
           {
            "marker": {
             "colorbar": {
              "outlinewidth": 0,
              "ticks": ""
             }
            },
            "type": "scatterpolar"
           }
          ],
          "scatterpolargl": [
           {
            "marker": {
             "colorbar": {
              "outlinewidth": 0,
              "ticks": ""
             }
            },
            "type": "scatterpolargl"
           }
          ],
          "scatterternary": [
           {
            "marker": {
             "colorbar": {
              "outlinewidth": 0,
              "ticks": ""
             }
            },
            "type": "scatterternary"
           }
          ],
          "surface": [
           {
            "colorbar": {
             "outlinewidth": 0,
             "ticks": ""
            },
            "colorscale": [
             [
              0,
              "#0d0887"
             ],
             [
              0.1111111111111111,
              "#46039f"
             ],
             [
              0.2222222222222222,
              "#7201a8"
             ],
             [
              0.3333333333333333,
              "#9c179e"
             ],
             [
              0.4444444444444444,
              "#bd3786"
             ],
             [
              0.5555555555555556,
              "#d8576b"
             ],
             [
              0.6666666666666666,
              "#ed7953"
             ],
             [
              0.7777777777777778,
              "#fb9f3a"
             ],
             [
              0.8888888888888888,
              "#fdca26"
             ],
             [
              1,
              "#f0f921"
             ]
            ],
            "type": "surface"
           }
          ],
          "table": [
           {
            "cells": {
             "fill": {
              "color": "#EBF0F8"
             },
             "line": {
              "color": "white"
             }
            },
            "header": {
             "fill": {
              "color": "#C8D4E3"
             },
             "line": {
              "color": "white"
             }
            },
            "type": "table"
           }
          ]
         },
         "layout": {
          "annotationdefaults": {
           "arrowcolor": "#2a3f5f",
           "arrowhead": 0,
           "arrowwidth": 1
          },
          "autotypenumbers": "strict",
          "coloraxis": {
           "colorbar": {
            "outlinewidth": 0,
            "ticks": ""
           }
          },
          "colorscale": {
           "diverging": [
            [
             0,
             "#8e0152"
            ],
            [
             0.1,
             "#c51b7d"
            ],
            [
             0.2,
             "#de77ae"
            ],
            [
             0.3,
             "#f1b6da"
            ],
            [
             0.4,
             "#fde0ef"
            ],
            [
             0.5,
             "#f7f7f7"
            ],
            [
             0.6,
             "#e6f5d0"
            ],
            [
             0.7,
             "#b8e186"
            ],
            [
             0.8,
             "#7fbc41"
            ],
            [
             0.9,
             "#4d9221"
            ],
            [
             1,
             "#276419"
            ]
           ],
           "sequential": [
            [
             0,
             "#0d0887"
            ],
            [
             0.1111111111111111,
             "#46039f"
            ],
            [
             0.2222222222222222,
             "#7201a8"
            ],
            [
             0.3333333333333333,
             "#9c179e"
            ],
            [
             0.4444444444444444,
             "#bd3786"
            ],
            [
             0.5555555555555556,
             "#d8576b"
            ],
            [
             0.6666666666666666,
             "#ed7953"
            ],
            [
             0.7777777777777778,
             "#fb9f3a"
            ],
            [
             0.8888888888888888,
             "#fdca26"
            ],
            [
             1,
             "#f0f921"
            ]
           ],
           "sequentialminus": [
            [
             0,
             "#0d0887"
            ],
            [
             0.1111111111111111,
             "#46039f"
            ],
            [
             0.2222222222222222,
             "#7201a8"
            ],
            [
             0.3333333333333333,
             "#9c179e"
            ],
            [
             0.4444444444444444,
             "#bd3786"
            ],
            [
             0.5555555555555556,
             "#d8576b"
            ],
            [
             0.6666666666666666,
             "#ed7953"
            ],
            [
             0.7777777777777778,
             "#fb9f3a"
            ],
            [
             0.8888888888888888,
             "#fdca26"
            ],
            [
             1,
             "#f0f921"
            ]
           ]
          },
          "colorway": [
           "#636efa",
           "#EF553B",
           "#00cc96",
           "#ab63fa",
           "#FFA15A",
           "#19d3f3",
           "#FF6692",
           "#B6E880",
           "#FF97FF",
           "#FECB52"
          ],
          "font": {
           "color": "#2a3f5f"
          },
          "geo": {
           "bgcolor": "white",
           "lakecolor": "white",
           "landcolor": "#E5ECF6",
           "showlakes": true,
           "showland": true,
           "subunitcolor": "white"
          },
          "hoverlabel": {
           "align": "left"
          },
          "hovermode": "closest",
          "mapbox": {
           "style": "light"
          },
          "paper_bgcolor": "white",
          "plot_bgcolor": "#E5ECF6",
          "polar": {
           "angularaxis": {
            "gridcolor": "white",
            "linecolor": "white",
            "ticks": ""
           },
           "bgcolor": "#E5ECF6",
           "radialaxis": {
            "gridcolor": "white",
            "linecolor": "white",
            "ticks": ""
           }
          },
          "scene": {
           "xaxis": {
            "backgroundcolor": "#E5ECF6",
            "gridcolor": "white",
            "gridwidth": 2,
            "linecolor": "white",
            "showbackground": true,
            "ticks": "",
            "zerolinecolor": "white"
           },
           "yaxis": {
            "backgroundcolor": "#E5ECF6",
            "gridcolor": "white",
            "gridwidth": 2,
            "linecolor": "white",
            "showbackground": true,
            "ticks": "",
            "zerolinecolor": "white"
           },
           "zaxis": {
            "backgroundcolor": "#E5ECF6",
            "gridcolor": "white",
            "gridwidth": 2,
            "linecolor": "white",
            "showbackground": true,
            "ticks": "",
            "zerolinecolor": "white"
           }
          },
          "shapedefaults": {
           "line": {
            "color": "#2a3f5f"
           }
          },
          "ternary": {
           "aaxis": {
            "gridcolor": "white",
            "linecolor": "white",
            "ticks": ""
           },
           "baxis": {
            "gridcolor": "white",
            "linecolor": "white",
            "ticks": ""
           },
           "bgcolor": "#E5ECF6",
           "caxis": {
            "gridcolor": "white",
            "linecolor": "white",
            "ticks": ""
           }
          },
          "title": {
           "x": 0.05
          },
          "xaxis": {
           "automargin": true,
           "gridcolor": "white",
           "linecolor": "white",
           "ticks": "",
           "title": {
            "standoff": 15
           },
           "zerolinecolor": "white",
           "zerolinewidth": 2
          },
          "yaxis": {
           "automargin": true,
           "gridcolor": "white",
           "linecolor": "white",
           "ticks": "",
           "title": {
            "standoff": 15
           },
           "zerolinecolor": "white",
           "zerolinewidth": 2
          }
         }
        },
        "title": {
         "text": "Training Accuracy"
        },
        "width": 1000,
        "xaxis": {
         "title": {
          "text": "Epoch"
         }
        },
        "yaxis": {
         "tickformat": ".3%",
         "title": {
          "text": "Accuracy"
         }
        }
       }
      }
     },
     "metadata": {},
     "output_type": "display_data"
    }
   ],
   "source": [
    "plot_accuracy(accuracy_df, 'Training Accuracy')"
   ]
  },
  {
   "cell_type": "markdown",
   "metadata": {},
   "source": [
    "## Validation Accuracy"
   ]
  },
  {
   "cell_type": "code",
   "execution_count": 17,
   "metadata": {},
   "outputs": [],
   "source": [
    "_, val_accuracy_df = accuracy_data(df_exp2)"
   ]
  },
  {
   "cell_type": "markdown",
   "metadata": {},
   "source": [
    "Same pattern is shown in validation accuracy values as far as `DenseNet` is concerned. But `EfficientNetV2L` performs best among all models. Note, here validation accuracies are more than that of training, this is due to `Dropout` layer as it is applied at the time of training only."
   ]
  },
  {
   "cell_type": "code",
   "execution_count": 18,
   "metadata": {},
   "outputs": [
    {
     "name": "stdout",
     "output_type": "stream",
     "text": [
      "Validation Accuracy\n"
     ]
    },
    {
     "data": {
      "text/html": [
       "<style type=\"text/css\">\n",
       "#T_2bb7c_row0_col2, #T_2bb7c_row3_col0, #T_2bb7c_row3_col9, #T_2bb7c_row4_col8, #T_2bb7c_row5_col1, #T_2bb7c_row5_col4, #T_2bb7c_row5_col6, #T_2bb7c_row5_col7, #T_2bb7c_row7_col10, #T_2bb7c_row9_col3 {\n",
       "  background-color: red;\n",
       "}\n",
       "#T_2bb7c_row0_col5, #T_2bb7c_row1_col5, #T_2bb7c_row2_col5, #T_2bb7c_row3_col5, #T_2bb7c_row5_col5 {\n",
       "  background-color: red;\n",
       "  background-color: green;\n",
       "}\n",
       "#T_2bb7c_row9_col5 {\n",
       "  background-color: navy;\n",
       "}\n",
       "</style>\n",
       "<table id=\"T_2bb7c\">\n",
       "  <thead>\n",
       "    <tr>\n",
       "      <th class=\"blank level0\" >&nbsp;</th>\n",
       "      <th id=\"T_2bb7c_level0_col0\" class=\"col_heading level0 col0\" >DenseNet121_val_accuracy</th>\n",
       "      <th id=\"T_2bb7c_level0_col1\" class=\"col_heading level0 col1\" >DenseNet169_val_accuracy</th>\n",
       "      <th id=\"T_2bb7c_level0_col2\" class=\"col_heading level0 col2\" >DenseNet201_val_accuracy</th>\n",
       "      <th id=\"T_2bb7c_level0_col3\" class=\"col_heading level0 col3\" >EfficientNetB0_val_accuracy</th>\n",
       "      <th id=\"T_2bb7c_level0_col4\" class=\"col_heading level0 col4\" >EfficientNetV2B0_val_accuracy</th>\n",
       "      <th id=\"T_2bb7c_level0_col5\" class=\"col_heading level0 col5\" >EfficientNetV2L_val_accuracy</th>\n",
       "      <th id=\"T_2bb7c_level0_col6\" class=\"col_heading level0 col6\" >ResNet101_val_accuracy</th>\n",
       "      <th id=\"T_2bb7c_level0_col7\" class=\"col_heading level0 col7\" >ResNet152_val_accuracy</th>\n",
       "      <th id=\"T_2bb7c_level0_col8\" class=\"col_heading level0 col8\" >ResNet50_val_accuracy</th>\n",
       "      <th id=\"T_2bb7c_level0_col9\" class=\"col_heading level0 col9\" >VGG16_val_accuracy</th>\n",
       "      <th id=\"T_2bb7c_level0_col10\" class=\"col_heading level0 col10\" >VGG19_val_accuracy</th>\n",
       "    </tr>\n",
       "  </thead>\n",
       "  <tbody>\n",
       "    <tr>\n",
       "      <th id=\"T_2bb7c_level0_row0\" class=\"row_heading level0 row0\" >0</th>\n",
       "      <td id=\"T_2bb7c_row0_col0\" class=\"data row0 col0\" >31.694%</td>\n",
       "      <td id=\"T_2bb7c_row0_col1\" class=\"data row0 col1\" >34.471%</td>\n",
       "      <td id=\"T_2bb7c_row0_col2\" class=\"data row0 col2\" >30.599%</td>\n",
       "      <td id=\"T_2bb7c_row0_col3\" class=\"data row0 col3\" >97.529%</td>\n",
       "      <td id=\"T_2bb7c_row0_col4\" class=\"data row0 col4\" >99.159%</td>\n",
       "      <td id=\"T_2bb7c_row0_col5\" class=\"data row0 col5\" >99.694%</td>\n",
       "      <td id=\"T_2bb7c_row0_col6\" class=\"data row0 col6\" >93.656%</td>\n",
       "      <td id=\"T_2bb7c_row0_col7\" class=\"data row0 col7\" >94.013%</td>\n",
       "      <td id=\"T_2bb7c_row0_col8\" class=\"data row0 col8\" >91.261%</td>\n",
       "      <td id=\"T_2bb7c_row0_col9\" class=\"data row0 col9\" >84.535%</td>\n",
       "      <td id=\"T_2bb7c_row0_col10\" class=\"data row0 col10\" >84.076%</td>\n",
       "    </tr>\n",
       "    <tr>\n",
       "      <th id=\"T_2bb7c_level0_row1\" class=\"row_heading level0 row1\" >1</th>\n",
       "      <td id=\"T_2bb7c_row1_col0\" class=\"data row1 col0\" >29.554%</td>\n",
       "      <td id=\"T_2bb7c_row1_col1\" class=\"data row1 col1\" >33.274%</td>\n",
       "      <td id=\"T_2bb7c_row1_col2\" class=\"data row1 col2\" >26.013%</td>\n",
       "      <td id=\"T_2bb7c_row1_col3\" class=\"data row1 col3\" >98.166%</td>\n",
       "      <td id=\"T_2bb7c_row1_col4\" class=\"data row1 col4\" >99.210%</td>\n",
       "      <td id=\"T_2bb7c_row1_col5\" class=\"data row1 col5\" >99.694%</td>\n",
       "      <td id=\"T_2bb7c_row1_col6\" class=\"data row1 col6\" >94.293%</td>\n",
       "      <td id=\"T_2bb7c_row1_col7\" class=\"data row1 col7\" >94.828%</td>\n",
       "      <td id=\"T_2bb7c_row1_col8\" class=\"data row1 col8\" >92.892%</td>\n",
       "      <td id=\"T_2bb7c_row1_col9\" class=\"data row1 col9\" >86.446%</td>\n",
       "      <td id=\"T_2bb7c_row1_col10\" class=\"data row1 col10\" >86.981%</td>\n",
       "    </tr>\n",
       "    <tr>\n",
       "      <th id=\"T_2bb7c_level0_row2\" class=\"row_heading level0 row2\" >2</th>\n",
       "      <td id=\"T_2bb7c_row2_col0\" class=\"data row2 col0\" >40.000%</td>\n",
       "      <td id=\"T_2bb7c_row2_col1\" class=\"data row2 col1\" >30.828%</td>\n",
       "      <td id=\"T_2bb7c_row2_col2\" class=\"data row2 col2\" >28.306%</td>\n",
       "      <td id=\"T_2bb7c_row2_col3\" class=\"data row2 col3\" >98.242%</td>\n",
       "      <td id=\"T_2bb7c_row2_col4\" class=\"data row2 col4\" >99.338%</td>\n",
       "      <td id=\"T_2bb7c_row2_col5\" class=\"data row2 col5\" >99.694%</td>\n",
       "      <td id=\"T_2bb7c_row2_col6\" class=\"data row2 col6\" >94.497%</td>\n",
       "      <td id=\"T_2bb7c_row2_col7\" class=\"data row2 col7\" >94.777%</td>\n",
       "      <td id=\"T_2bb7c_row2_col8\" class=\"data row2 col8\" >92.713%</td>\n",
       "      <td id=\"T_2bb7c_row2_col9\" class=\"data row2 col9\" >88.994%</td>\n",
       "      <td id=\"T_2bb7c_row2_col10\" class=\"data row2 col10\" >88.688%</td>\n",
       "    </tr>\n",
       "    <tr>\n",
       "      <th id=\"T_2bb7c_level0_row3\" class=\"row_heading level0 row3\" >3</th>\n",
       "      <td id=\"T_2bb7c_row3_col0\" class=\"data row3 col0\" >40.306%</td>\n",
       "      <td id=\"T_2bb7c_row3_col1\" class=\"data row3 col1\" >27.796%</td>\n",
       "      <td id=\"T_2bb7c_row3_col2\" class=\"data row3 col2\" >25.885%</td>\n",
       "      <td id=\"T_2bb7c_row3_col3\" class=\"data row3 col3\" >98.497%</td>\n",
       "      <td id=\"T_2bb7c_row3_col4\" class=\"data row3 col4\" >99.414%</td>\n",
       "      <td id=\"T_2bb7c_row3_col5\" class=\"data row3 col5\" >99.694%</td>\n",
       "      <td id=\"T_2bb7c_row3_col6\" class=\"data row3 col6\" >94.395%</td>\n",
       "      <td id=\"T_2bb7c_row3_col7\" class=\"data row3 col7\" >94.522%</td>\n",
       "      <td id=\"T_2bb7c_row3_col8\" class=\"data row3 col8\" >92.408%</td>\n",
       "      <td id=\"T_2bb7c_row3_col9\" class=\"data row3 col9\" >89.682%</td>\n",
       "      <td id=\"T_2bb7c_row3_col10\" class=\"data row3 col10\" >88.433%</td>\n",
       "    </tr>\n",
       "    <tr>\n",
       "      <th id=\"T_2bb7c_level0_row4\" class=\"row_heading level0 row4\" >4</th>\n",
       "      <td id=\"T_2bb7c_row4_col0\" class=\"data row4 col0\" >38.140%</td>\n",
       "      <td id=\"T_2bb7c_row4_col1\" class=\"data row4 col1\" >34.879%</td>\n",
       "      <td id=\"T_2bb7c_row4_col2\" class=\"data row4 col2\" >27.287%</td>\n",
       "      <td id=\"T_2bb7c_row4_col3\" class=\"data row4 col3\" >98.599%</td>\n",
       "      <td id=\"T_2bb7c_row4_col4\" class=\"data row4 col4\" >99.363%</td>\n",
       "      <td id=\"T_2bb7c_row4_col5\" class=\"data row4 col5\" >99.669%</td>\n",
       "      <td id=\"T_2bb7c_row4_col6\" class=\"data row4 col6\" >94.904%</td>\n",
       "      <td id=\"T_2bb7c_row4_col7\" class=\"data row4 col7\" >95.414%</td>\n",
       "      <td id=\"T_2bb7c_row4_col8\" class=\"data row4 col8\" >93.911%</td>\n",
       "      <td id=\"T_2bb7c_row4_col9\" class=\"data row4 col9\" >89.503%</td>\n",
       "      <td id=\"T_2bb7c_row4_col10\" class=\"data row4 col10\" >89.656%</td>\n",
       "    </tr>\n",
       "    <tr>\n",
       "      <th id=\"T_2bb7c_level0_row5\" class=\"row_heading level0 row5\" >5</th>\n",
       "      <td id=\"T_2bb7c_row5_col0\" class=\"data row5 col0\" >39.669%</td>\n",
       "      <td id=\"T_2bb7c_row5_col1\" class=\"data row5 col1\" >38.217%</td>\n",
       "      <td id=\"T_2bb7c_row5_col2\" class=\"data row5 col2\" >30.140%</td>\n",
       "      <td id=\"T_2bb7c_row5_col3\" class=\"data row5 col3\" >98.471%</td>\n",
       "      <td id=\"T_2bb7c_row5_col4\" class=\"data row5 col4\" >99.465%</td>\n",
       "      <td id=\"T_2bb7c_row5_col5\" class=\"data row5 col5\" >99.694%</td>\n",
       "      <td id=\"T_2bb7c_row5_col6\" class=\"data row5 col6\" >95.465%</td>\n",
       "      <td id=\"T_2bb7c_row5_col7\" class=\"data row5 col7\" >95.567%</td>\n",
       "      <td id=\"T_2bb7c_row5_col8\" class=\"data row5 col8\" >93.096%</td>\n",
       "      <td id=\"T_2bb7c_row5_col9\" class=\"data row5 col9\" >88.815%</td>\n",
       "      <td id=\"T_2bb7c_row5_col10\" class=\"data row5 col10\" >88.280%</td>\n",
       "    </tr>\n",
       "    <tr>\n",
       "      <th id=\"T_2bb7c_level0_row6\" class=\"row_heading level0 row6\" >6</th>\n",
       "      <td id=\"T_2bb7c_row6_col0\" class=\"data row6 col0\" >26.344%</td>\n",
       "      <td id=\"T_2bb7c_row6_col1\" class=\"data row6 col1\" >33.936%</td>\n",
       "      <td id=\"T_2bb7c_row6_col2\" class=\"data row6 col2\" >29.911%</td>\n",
       "      <td id=\"T_2bb7c_row6_col3\" class=\"data row6 col3\" >98.471%</td>\n",
       "      <td id=\"T_2bb7c_row6_col4\" class=\"data row6 col4\" >99.312%</td>\n",
       "      <td id=\"T_2bb7c_row6_col5\" class=\"data row6 col5\" >99.669%</td>\n",
       "      <td id=\"T_2bb7c_row6_col6\" class=\"data row6 col6\" >95.185%</td>\n",
       "      <td id=\"T_2bb7c_row6_col7\" class=\"data row6 col7\" >95.363%</td>\n",
       "      <td id=\"T_2bb7c_row6_col8\" class=\"data row6 col8\" >92.866%</td>\n",
       "      <td id=\"T_2bb7c_row6_col9\" class=\"data row6 col9\" >89.146%</td>\n",
       "      <td id=\"T_2bb7c_row6_col10\" class=\"data row6 col10\" >90.089%</td>\n",
       "    </tr>\n",
       "    <tr>\n",
       "      <th id=\"T_2bb7c_level0_row7\" class=\"row_heading level0 row7\" >7</th>\n",
       "      <td id=\"T_2bb7c_row7_col0\" class=\"data row7 col0\" >37.019%</td>\n",
       "      <td id=\"T_2bb7c_row7_col1\" class=\"data row7 col1\" >25.325%</td>\n",
       "      <td id=\"T_2bb7c_row7_col2\" class=\"data row7 col2\" >30.140%</td>\n",
       "      <td id=\"T_2bb7c_row7_col3\" class=\"data row7 col3\" >98.522%</td>\n",
       "      <td id=\"T_2bb7c_row7_col4\" class=\"data row7 col4\" >99.414%</td>\n",
       "      <td id=\"T_2bb7c_row7_col5\" class=\"data row7 col5\" >99.669%</td>\n",
       "      <td id=\"T_2bb7c_row7_col6\" class=\"data row7 col6\" >94.854%</td>\n",
       "      <td id=\"T_2bb7c_row7_col7\" class=\"data row7 col7\" >95.159%</td>\n",
       "      <td id=\"T_2bb7c_row7_col8\" class=\"data row7 col8\" >93.274%</td>\n",
       "      <td id=\"T_2bb7c_row7_col9\" class=\"data row7 col9\" >89.045%</td>\n",
       "      <td id=\"T_2bb7c_row7_col10\" class=\"data row7 col10\" >90.650%</td>\n",
       "    </tr>\n",
       "    <tr>\n",
       "      <th id=\"T_2bb7c_level0_row8\" class=\"row_heading level0 row8\" >8</th>\n",
       "      <td id=\"T_2bb7c_row8_col0\" class=\"data row8 col0\" >33.707%</td>\n",
       "      <td id=\"T_2bb7c_row8_col1\" class=\"data row8 col1\" >34.854%</td>\n",
       "      <td id=\"T_2bb7c_row8_col2\" class=\"data row8 col2\" >24.459%</td>\n",
       "      <td id=\"T_2bb7c_row8_col3\" class=\"data row8 col3\" >98.471%</td>\n",
       "      <td id=\"T_2bb7c_row8_col4\" class=\"data row8 col4\" >99.439%</td>\n",
       "      <td id=\"T_2bb7c_row8_col5\" class=\"data row8 col5\" >99.669%</td>\n",
       "      <td id=\"T_2bb7c_row8_col6\" class=\"data row8 col6\" >95.210%</td>\n",
       "      <td id=\"T_2bb7c_row8_col7\" class=\"data row8 col7\" >95.414%</td>\n",
       "      <td id=\"T_2bb7c_row8_col8\" class=\"data row8 col8\" >93.885%</td>\n",
       "      <td id=\"T_2bb7c_row8_col9\" class=\"data row8 col9\" >88.790%</td>\n",
       "      <td id=\"T_2bb7c_row8_col10\" class=\"data row8 col10\" >90.369%</td>\n",
       "    </tr>\n",
       "    <tr>\n",
       "      <th id=\"T_2bb7c_level0_row9\" class=\"row_heading level0 row9\" >9</th>\n",
       "      <td id=\"T_2bb7c_row9_col0\" class=\"data row9 col0\" >32.535%</td>\n",
       "      <td id=\"T_2bb7c_row9_col1\" class=\"data row9 col1\" >31.210%</td>\n",
       "      <td id=\"T_2bb7c_row9_col2\" class=\"data row9 col2\" >26.344%</td>\n",
       "      <td id=\"T_2bb7c_row9_col3\" class=\"data row9 col3\" >98.675%</td>\n",
       "      <td id=\"T_2bb7c_row9_col4\" class=\"data row9 col4\" >99.389%</td>\n",
       "      <td id=\"T_2bb7c_row9_col5\" class=\"data row9 col5\" >99.669%</td>\n",
       "      <td id=\"T_2bb7c_row9_col6\" class=\"data row9 col6\" >94.955%</td>\n",
       "      <td id=\"T_2bb7c_row9_col7\" class=\"data row9 col7\" >95.057%</td>\n",
       "      <td id=\"T_2bb7c_row9_col8\" class=\"data row9 col8\" >93.146%</td>\n",
       "      <td id=\"T_2bb7c_row9_col9\" class=\"data row9 col9\" >89.299%</td>\n",
       "      <td id=\"T_2bb7c_row9_col10\" class=\"data row9 col10\" >90.140%</td>\n",
       "    </tr>\n",
       "  </tbody>\n",
       "</table>\n"
      ],
      "text/plain": [
       "<pandas.io.formats.style.Styler at 0x24aa452fad0>"
      ]
     },
     "execution_count": 18,
     "metadata": {},
     "output_type": "execute_result"
    }
   ],
   "source": [
    "# Color Legend:\n",
    "# - Red: maximum value in the column regardless of the epoch\n",
    "# - Green: maximum value in whole dataframe\n",
    "# - Navy: maximum value in the last row i.e. the last epoch\n",
    "\n",
    "print(\"Validation Accuracy\")\n",
    "\n",
    "format_df(val_accuracy_df)"
   ]
  },
  {
   "cell_type": "code",
   "execution_count": 19,
   "metadata": {},
   "outputs": [
    {
     "data": {
      "application/vnd.plotly.v1+json": {
       "config": {
        "plotlyServerURL": "https://plot.ly"
       },
       "data": [
        {
         "mode": "lines+markers",
         "name": "DenseNet121_val_accuracy",
         "type": "scatter",
         "x": [
          0,
          1,
          2,
          3,
          4,
          5,
          6,
          7,
          8,
          9
         ],
         "y": [
          0.31694266200065613,
          0.2955414056777954,
          0.4000000059604645,
          0.403057336807251,
          0.38140127062797546,
          0.39668789505958557,
          0.26343947649002075,
          0.3701910972595215,
          0.3370700776576996,
          0.3253503143787384
         ]
        },
        {
         "mode": "lines+markers",
         "name": "DenseNet169_val_accuracy",
         "type": "scatter",
         "x": [
          0,
          1,
          2,
          3,
          4,
          5,
          6,
          7,
          8,
          9
         ],
         "y": [
          0.34471338987350464,
          0.33273884654045105,
          0.30828025937080383,
          0.277961790561676,
          0.3487898111343384,
          0.3821656107902527,
          0.33936306834220886,
          0.253248393535614,
          0.34853503108024597,
          0.31210190057754517
         ]
        },
        {
         "mode": "lines+markers",
         "name": "DenseNet201_val_accuracy",
         "type": "scatter",
         "x": [
          0,
          1,
          2,
          3,
          4,
          5,
          6,
          7,
          8,
          9
         ],
         "y": [
          0.30598726868629456,
          0.26012739539146423,
          0.2830573320388794,
          0.2588534951210022,
          0.27286624908447266,
          0.301401287317276,
          0.29910826683044434,
          0.301401287317276,
          0.24458599090576172,
          0.26343947649002075
         ]
        },
        {
         "mode": "lines+markers",
         "name": "EfficientNetB0_val_accuracy",
         "type": "scatter",
         "x": [
          0,
          1,
          2,
          3,
          4,
          5,
          6,
          7,
          8,
          9
         ],
         "y": [
          0.975286602973938,
          0.9816560745239258,
          0.9824203848838806,
          0.9849681258201599,
          0.9859872460365295,
          0.9847133755683899,
          0.9847133755683899,
          0.9852229356765747,
          0.9847133755683899,
          0.9867516160011292
         ]
        },
        {
         "mode": "lines+markers",
         "name": "EfficientNetV2B0_val_accuracy",
         "type": "scatter",
         "x": [
          0,
          1,
          2,
          3,
          4,
          5,
          6,
          7,
          8,
          9
         ],
         "y": [
          0.9915923476219177,
          0.9921019077301025,
          0.9933757781982422,
          0.9941401481628418,
          0.993630588054657,
          0.9946497082710266,
          0.9931210279464722,
          0.9941401481628418,
          0.9943948984146118,
          0.993885338306427
         ]
        },
        {
         "mode": "lines+markers",
         "name": "EfficientNetV2L_val_accuracy",
         "type": "scatter",
         "x": [
          0,
          1,
          2,
          3,
          4,
          5,
          6,
          7,
          8,
          9
         ],
         "y": [
          0.9969426989555359,
          0.9969426989555359,
          0.9969426989555359,
          0.9969426989555359,
          0.9966878890991211,
          0.9969426989555359,
          0.9966878890991211,
          0.9966878890991211,
          0.9966878890991211,
          0.9966878890991211
         ]
        },
        {
         "mode": "lines+markers",
         "name": "ResNet101_val_accuracy",
         "type": "scatter",
         "x": [
          0,
          1,
          2,
          3,
          4,
          5,
          6,
          7,
          8,
          9
         ],
         "y": [
          0.9365605115890503,
          0.9429299235343933,
          0.9449681639671326,
          0.9439490437507629,
          0.9490445852279663,
          0.9546496868133545,
          0.9518471360206604,
          0.9485350251197815,
          0.9521018862724304,
          0.9495541453361511
         ]
        },
        {
         "mode": "lines+markers",
         "name": "ResNet152_val_accuracy",
         "type": "scatter",
         "x": [
          0,
          1,
          2,
          3,
          4,
          5,
          6,
          7,
          8,
          9
         ],
         "y": [
          0.9401273727416992,
          0.9482802748680115,
          0.9477707147598267,
          0.9452229142189026,
          0.9541401267051697,
          0.9556688070297241,
          0.9536305665969849,
          0.9515923857688904,
          0.9541401267051697,
          0.9505732655525208
         ]
        },
        {
         "mode": "lines+markers",
         "name": "ResNet50_val_accuracy",
         "type": "scatter",
         "x": [
          0,
          1,
          2,
          3,
          4,
          5,
          6,
          7,
          8,
          9
         ],
         "y": [
          0.9126114845275879,
          0.9289171695709229,
          0.9271337389945984,
          0.9240764379501343,
          0.9391082525253296,
          0.9309554100036621,
          0.9286624193191528,
          0.9327388405799866,
          0.9388535022735596,
          0.9314649701118469
         ]
        },
        {
         "mode": "lines+markers",
         "name": "VGG16_val_accuracy",
         "type": "scatter",
         "x": [
          0,
          1,
          2,
          3,
          4,
          5,
          6,
          7,
          8,
          9
         ],
         "y": [
          0.8453503251075745,
          0.8644586205482483,
          0.8899363279342651,
          0.896815299987793,
          0.8950318694114685,
          0.8881528377532959,
          0.8914649486541748,
          0.89044588804245,
          0.8878980875015259,
          0.8929936289787292
         ]
        },
        {
         "mode": "lines+markers",
         "name": "VGG19_val_accuracy",
         "type": "scatter",
         "x": [
          0,
          1,
          2,
          3,
          4,
          5,
          6,
          7,
          8,
          9
         ],
         "y": [
          0.8407643437385559,
          0.8698089122772217,
          0.8868789672851562,
          0.884331226348877,
          0.8965604901313782,
          0.8828025460243225,
          0.9008917212486267,
          0.9064968228340149,
          0.9036942720413208,
          0.9014012813568115
         ]
        }
       ],
       "layout": {
        "height": 500,
        "template": {
         "data": {
          "bar": [
           {
            "error_x": {
             "color": "#2a3f5f"
            },
            "error_y": {
             "color": "#2a3f5f"
            },
            "marker": {
             "line": {
              "color": "#E5ECF6",
              "width": 0.5
             },
             "pattern": {
              "fillmode": "overlay",
              "size": 10,
              "solidity": 0.2
             }
            },
            "type": "bar"
           }
          ],
          "barpolar": [
           {
            "marker": {
             "line": {
              "color": "#E5ECF6",
              "width": 0.5
             },
             "pattern": {
              "fillmode": "overlay",
              "size": 10,
              "solidity": 0.2
             }
            },
            "type": "barpolar"
           }
          ],
          "carpet": [
           {
            "aaxis": {
             "endlinecolor": "#2a3f5f",
             "gridcolor": "white",
             "linecolor": "white",
             "minorgridcolor": "white",
             "startlinecolor": "#2a3f5f"
            },
            "baxis": {
             "endlinecolor": "#2a3f5f",
             "gridcolor": "white",
             "linecolor": "white",
             "minorgridcolor": "white",
             "startlinecolor": "#2a3f5f"
            },
            "type": "carpet"
           }
          ],
          "choropleth": [
           {
            "colorbar": {
             "outlinewidth": 0,
             "ticks": ""
            },
            "type": "choropleth"
           }
          ],
          "contour": [
           {
            "colorbar": {
             "outlinewidth": 0,
             "ticks": ""
            },
            "colorscale": [
             [
              0,
              "#0d0887"
             ],
             [
              0.1111111111111111,
              "#46039f"
             ],
             [
              0.2222222222222222,
              "#7201a8"
             ],
             [
              0.3333333333333333,
              "#9c179e"
             ],
             [
              0.4444444444444444,
              "#bd3786"
             ],
             [
              0.5555555555555556,
              "#d8576b"
             ],
             [
              0.6666666666666666,
              "#ed7953"
             ],
             [
              0.7777777777777778,
              "#fb9f3a"
             ],
             [
              0.8888888888888888,
              "#fdca26"
             ],
             [
              1,
              "#f0f921"
             ]
            ],
            "type": "contour"
           }
          ],
          "contourcarpet": [
           {
            "colorbar": {
             "outlinewidth": 0,
             "ticks": ""
            },
            "type": "contourcarpet"
           }
          ],
          "heatmap": [
           {
            "colorbar": {
             "outlinewidth": 0,
             "ticks": ""
            },
            "colorscale": [
             [
              0,
              "#0d0887"
             ],
             [
              0.1111111111111111,
              "#46039f"
             ],
             [
              0.2222222222222222,
              "#7201a8"
             ],
             [
              0.3333333333333333,
              "#9c179e"
             ],
             [
              0.4444444444444444,
              "#bd3786"
             ],
             [
              0.5555555555555556,
              "#d8576b"
             ],
             [
              0.6666666666666666,
              "#ed7953"
             ],
             [
              0.7777777777777778,
              "#fb9f3a"
             ],
             [
              0.8888888888888888,
              "#fdca26"
             ],
             [
              1,
              "#f0f921"
             ]
            ],
            "type": "heatmap"
           }
          ],
          "heatmapgl": [
           {
            "colorbar": {
             "outlinewidth": 0,
             "ticks": ""
            },
            "colorscale": [
             [
              0,
              "#0d0887"
             ],
             [
              0.1111111111111111,
              "#46039f"
             ],
             [
              0.2222222222222222,
              "#7201a8"
             ],
             [
              0.3333333333333333,
              "#9c179e"
             ],
             [
              0.4444444444444444,
              "#bd3786"
             ],
             [
              0.5555555555555556,
              "#d8576b"
             ],
             [
              0.6666666666666666,
              "#ed7953"
             ],
             [
              0.7777777777777778,
              "#fb9f3a"
             ],
             [
              0.8888888888888888,
              "#fdca26"
             ],
             [
              1,
              "#f0f921"
             ]
            ],
            "type": "heatmapgl"
           }
          ],
          "histogram": [
           {
            "marker": {
             "pattern": {
              "fillmode": "overlay",
              "size": 10,
              "solidity": 0.2
             }
            },
            "type": "histogram"
           }
          ],
          "histogram2d": [
           {
            "colorbar": {
             "outlinewidth": 0,
             "ticks": ""
            },
            "colorscale": [
             [
              0,
              "#0d0887"
             ],
             [
              0.1111111111111111,
              "#46039f"
             ],
             [
              0.2222222222222222,
              "#7201a8"
             ],
             [
              0.3333333333333333,
              "#9c179e"
             ],
             [
              0.4444444444444444,
              "#bd3786"
             ],
             [
              0.5555555555555556,
              "#d8576b"
             ],
             [
              0.6666666666666666,
              "#ed7953"
             ],
             [
              0.7777777777777778,
              "#fb9f3a"
             ],
             [
              0.8888888888888888,
              "#fdca26"
             ],
             [
              1,
              "#f0f921"
             ]
            ],
            "type": "histogram2d"
           }
          ],
          "histogram2dcontour": [
           {
            "colorbar": {
             "outlinewidth": 0,
             "ticks": ""
            },
            "colorscale": [
             [
              0,
              "#0d0887"
             ],
             [
              0.1111111111111111,
              "#46039f"
             ],
             [
              0.2222222222222222,
              "#7201a8"
             ],
             [
              0.3333333333333333,
              "#9c179e"
             ],
             [
              0.4444444444444444,
              "#bd3786"
             ],
             [
              0.5555555555555556,
              "#d8576b"
             ],
             [
              0.6666666666666666,
              "#ed7953"
             ],
             [
              0.7777777777777778,
              "#fb9f3a"
             ],
             [
              0.8888888888888888,
              "#fdca26"
             ],
             [
              1,
              "#f0f921"
             ]
            ],
            "type": "histogram2dcontour"
           }
          ],
          "mesh3d": [
           {
            "colorbar": {
             "outlinewidth": 0,
             "ticks": ""
            },
            "type": "mesh3d"
           }
          ],
          "parcoords": [
           {
            "line": {
             "colorbar": {
              "outlinewidth": 0,
              "ticks": ""
             }
            },
            "type": "parcoords"
           }
          ],
          "pie": [
           {
            "automargin": true,
            "type": "pie"
           }
          ],
          "scatter": [
           {
            "fillpattern": {
             "fillmode": "overlay",
             "size": 10,
             "solidity": 0.2
            },
            "type": "scatter"
           }
          ],
          "scatter3d": [
           {
            "line": {
             "colorbar": {
              "outlinewidth": 0,
              "ticks": ""
             }
            },
            "marker": {
             "colorbar": {
              "outlinewidth": 0,
              "ticks": ""
             }
            },
            "type": "scatter3d"
           }
          ],
          "scattercarpet": [
           {
            "marker": {
             "colorbar": {
              "outlinewidth": 0,
              "ticks": ""
             }
            },
            "type": "scattercarpet"
           }
          ],
          "scattergeo": [
           {
            "marker": {
             "colorbar": {
              "outlinewidth": 0,
              "ticks": ""
             }
            },
            "type": "scattergeo"
           }
          ],
          "scattergl": [
           {
            "marker": {
             "colorbar": {
              "outlinewidth": 0,
              "ticks": ""
             }
            },
            "type": "scattergl"
           }
          ],
          "scattermapbox": [
           {
            "marker": {
             "colorbar": {
              "outlinewidth": 0,
              "ticks": ""
             }
            },
            "type": "scattermapbox"
           }
          ],
          "scatterpolar": [
           {
            "marker": {
             "colorbar": {
              "outlinewidth": 0,
              "ticks": ""
             }
            },
            "type": "scatterpolar"
           }
          ],
          "scatterpolargl": [
           {
            "marker": {
             "colorbar": {
              "outlinewidth": 0,
              "ticks": ""
             }
            },
            "type": "scatterpolargl"
           }
          ],
          "scatterternary": [
           {
            "marker": {
             "colorbar": {
              "outlinewidth": 0,
              "ticks": ""
             }
            },
            "type": "scatterternary"
           }
          ],
          "surface": [
           {
            "colorbar": {
             "outlinewidth": 0,
             "ticks": ""
            },
            "colorscale": [
             [
              0,
              "#0d0887"
             ],
             [
              0.1111111111111111,
              "#46039f"
             ],
             [
              0.2222222222222222,
              "#7201a8"
             ],
             [
              0.3333333333333333,
              "#9c179e"
             ],
             [
              0.4444444444444444,
              "#bd3786"
             ],
             [
              0.5555555555555556,
              "#d8576b"
             ],
             [
              0.6666666666666666,
              "#ed7953"
             ],
             [
              0.7777777777777778,
              "#fb9f3a"
             ],
             [
              0.8888888888888888,
              "#fdca26"
             ],
             [
              1,
              "#f0f921"
             ]
            ],
            "type": "surface"
           }
          ],
          "table": [
           {
            "cells": {
             "fill": {
              "color": "#EBF0F8"
             },
             "line": {
              "color": "white"
             }
            },
            "header": {
             "fill": {
              "color": "#C8D4E3"
             },
             "line": {
              "color": "white"
             }
            },
            "type": "table"
           }
          ]
         },
         "layout": {
          "annotationdefaults": {
           "arrowcolor": "#2a3f5f",
           "arrowhead": 0,
           "arrowwidth": 1
          },
          "autotypenumbers": "strict",
          "coloraxis": {
           "colorbar": {
            "outlinewidth": 0,
            "ticks": ""
           }
          },
          "colorscale": {
           "diverging": [
            [
             0,
             "#8e0152"
            ],
            [
             0.1,
             "#c51b7d"
            ],
            [
             0.2,
             "#de77ae"
            ],
            [
             0.3,
             "#f1b6da"
            ],
            [
             0.4,
             "#fde0ef"
            ],
            [
             0.5,
             "#f7f7f7"
            ],
            [
             0.6,
             "#e6f5d0"
            ],
            [
             0.7,
             "#b8e186"
            ],
            [
             0.8,
             "#7fbc41"
            ],
            [
             0.9,
             "#4d9221"
            ],
            [
             1,
             "#276419"
            ]
           ],
           "sequential": [
            [
             0,
             "#0d0887"
            ],
            [
             0.1111111111111111,
             "#46039f"
            ],
            [
             0.2222222222222222,
             "#7201a8"
            ],
            [
             0.3333333333333333,
             "#9c179e"
            ],
            [
             0.4444444444444444,
             "#bd3786"
            ],
            [
             0.5555555555555556,
             "#d8576b"
            ],
            [
             0.6666666666666666,
             "#ed7953"
            ],
            [
             0.7777777777777778,
             "#fb9f3a"
            ],
            [
             0.8888888888888888,
             "#fdca26"
            ],
            [
             1,
             "#f0f921"
            ]
           ],
           "sequentialminus": [
            [
             0,
             "#0d0887"
            ],
            [
             0.1111111111111111,
             "#46039f"
            ],
            [
             0.2222222222222222,
             "#7201a8"
            ],
            [
             0.3333333333333333,
             "#9c179e"
            ],
            [
             0.4444444444444444,
             "#bd3786"
            ],
            [
             0.5555555555555556,
             "#d8576b"
            ],
            [
             0.6666666666666666,
             "#ed7953"
            ],
            [
             0.7777777777777778,
             "#fb9f3a"
            ],
            [
             0.8888888888888888,
             "#fdca26"
            ],
            [
             1,
             "#f0f921"
            ]
           ]
          },
          "colorway": [
           "#636efa",
           "#EF553B",
           "#00cc96",
           "#ab63fa",
           "#FFA15A",
           "#19d3f3",
           "#FF6692",
           "#B6E880",
           "#FF97FF",
           "#FECB52"
          ],
          "font": {
           "color": "#2a3f5f"
          },
          "geo": {
           "bgcolor": "white",
           "lakecolor": "white",
           "landcolor": "#E5ECF6",
           "showlakes": true,
           "showland": true,
           "subunitcolor": "white"
          },
          "hoverlabel": {
           "align": "left"
          },
          "hovermode": "closest",
          "mapbox": {
           "style": "light"
          },
          "paper_bgcolor": "white",
          "plot_bgcolor": "#E5ECF6",
          "polar": {
           "angularaxis": {
            "gridcolor": "white",
            "linecolor": "white",
            "ticks": ""
           },
           "bgcolor": "#E5ECF6",
           "radialaxis": {
            "gridcolor": "white",
            "linecolor": "white",
            "ticks": ""
           }
          },
          "scene": {
           "xaxis": {
            "backgroundcolor": "#E5ECF6",
            "gridcolor": "white",
            "gridwidth": 2,
            "linecolor": "white",
            "showbackground": true,
            "ticks": "",
            "zerolinecolor": "white"
           },
           "yaxis": {
            "backgroundcolor": "#E5ECF6",
            "gridcolor": "white",
            "gridwidth": 2,
            "linecolor": "white",
            "showbackground": true,
            "ticks": "",
            "zerolinecolor": "white"
           },
           "zaxis": {
            "backgroundcolor": "#E5ECF6",
            "gridcolor": "white",
            "gridwidth": 2,
            "linecolor": "white",
            "showbackground": true,
            "ticks": "",
            "zerolinecolor": "white"
           }
          },
          "shapedefaults": {
           "line": {
            "color": "#2a3f5f"
           }
          },
          "ternary": {
           "aaxis": {
            "gridcolor": "white",
            "linecolor": "white",
            "ticks": ""
           },
           "baxis": {
            "gridcolor": "white",
            "linecolor": "white",
            "ticks": ""
           },
           "bgcolor": "#E5ECF6",
           "caxis": {
            "gridcolor": "white",
            "linecolor": "white",
            "ticks": ""
           }
          },
          "title": {
           "x": 0.05
          },
          "xaxis": {
           "automargin": true,
           "gridcolor": "white",
           "linecolor": "white",
           "ticks": "",
           "title": {
            "standoff": 15
           },
           "zerolinecolor": "white",
           "zerolinewidth": 2
          },
          "yaxis": {
           "automargin": true,
           "gridcolor": "white",
           "linecolor": "white",
           "ticks": "",
           "title": {
            "standoff": 15
           },
           "zerolinecolor": "white",
           "zerolinewidth": 2
          }
         }
        },
        "title": {
         "text": "Training Accuracy"
        },
        "width": 1000,
        "xaxis": {
         "title": {
          "text": "Epoch"
         }
        },
        "yaxis": {
         "tickformat": ".3%",
         "title": {
          "text": "Accuracy"
         }
        }
       }
      }
     },
     "metadata": {},
     "output_type": "display_data"
    }
   ],
   "source": [
    "plot_accuracy(val_accuracy_df, 'Training Accuracy')"
   ]
  }
 ],
 "metadata": {
  "kernelspec": {
   "display_name": "base",
   "language": "python",
   "name": "python3"
  },
  "language_info": {
   "codemirror_mode": {
    "name": "ipython",
    "version": 3
   },
   "file_extension": ".py",
   "mimetype": "text/x-python",
   "name": "python",
   "nbconvert_exporter": "python",
   "pygments_lexer": "ipython3",
   "version": "3.11.8"
  }
 },
 "nbformat": 4,
 "nbformat_minor": 2
}
